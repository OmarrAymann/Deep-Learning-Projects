{
  "cells": [
    {
      "cell_type": "markdown",
      "id": "b177f870",
      "metadata": {
        "id": "b177f870"
      },
      "source": [
        "# Introduction\n",
        "\n",
        "\n",
        "Use the Credit Score Classification dataset provided [here](https://www.kaggle.com/datasets/parisrohan/credit-score-classification)\n",
        "\n",
        "\n"
      ]
    },
    {
      "cell_type": "markdown",
      "id": "6c3cf7d8",
      "metadata": {},
      "source": [
        "# `01` Import Necessary Libraries"
      ]
    },
    {
      "cell_type": "markdown",
      "id": "fdc0d81f",
      "metadata": {},
      "source": [
        "## `i` Default Libraries"
      ]
    },
    {
      "cell_type": "code",
      "execution_count": 56,
      "id": "05ffdd94",
      "metadata": {},
      "outputs": [],
      "source": [
        "import numpy as np\n",
        "import pandas as pd\n",
        "\n",
        "import matplotlib.pyplot as plt\n",
        "import seaborn as sns"
      ]
    },
    {
      "cell_type": "markdown",
      "id": "47bd0cb1",
      "metadata": {},
      "source": [
        "## `ii` Additional Libraries"
      ]
    },
    {
      "cell_type": "code",
      "execution_count": null,
      "id": "6378de52",
      "metadata": {},
      "outputs": [],
      "source": [
        "from sklearn.impute import KNNImputer, SimpleImputer\n",
        "from sklearn.model_selection import train_test_split\n",
        "from sklearn.preprocessing import LabelEncoder,MultiLabelBinarizer,OrdinalEncoder,StandardScaler\n",
        "from tensorflow import keras\n",
        "from tensorflow.keras.models import Sequential\n",
        "from tensorflow.keras.layers import Dense, Activation\n",
        "from tensorflow.keras.callbacks import EarlyStopping\n",
        "np.random.seed = 1234"
      ]
    },
    {
      "cell_type": "markdown",
      "id": "7abde269",
      "metadata": {},
      "source": [
        "----------------------------\n",
        "\n",
        "# `02` Load & Split Data\n"
      ]
    },
    {
      "cell_type": "code",
      "execution_count": 58,
      "id": "bf324867",
      "metadata": {},
      "outputs": [
        {
          "name": "stderr",
          "output_type": "stream",
          "text": [
            "C:\\Users\\Omar Elgema3y\\AppData\\Local\\Temp\\ipykernel_2812\\3636984635.py:1: DtypeWarning: Columns (26) have mixed types. Specify dtype option on import or set low_memory=False.\n",
            "  train = pd.read_csv(r'O:\\iti\\12) Deep learning\\Labs\\lab 2\\train.csv')\n"
          ]
        }
      ],
      "source": [
        "train = pd.read_csv(r'O:\\iti\\12) Deep learning\\Labs\\lab 2\\train.csv')"
      ]
    },
    {
      "cell_type": "markdown",
      "id": "be0c2d81",
      "metadata": {},
      "source": [
        "----------------\n",
        "\n",
        "# `03` Exploratory Data Analysis (EDA)"
      ]
    },
    {
      "cell_type": "markdown",
      "id": "9f933e4d",
      "metadata": {},
      "source": [
        "## `i` Simple Analysis\n",
        "\n",
        "\n",
        "\n"
      ]
    },
    {
      "cell_type": "code",
      "execution_count": 59,
      "id": "9946109b",
      "metadata": {},
      "outputs": [
        {
          "data": {
            "application/vnd.microsoft.datawrangler.viewer.v0+json": {
              "columns": [
                {
                  "name": "index",
                  "rawType": "int64",
                  "type": "integer"
                },
                {
                  "name": "ID",
                  "rawType": "object",
                  "type": "string"
                },
                {
                  "name": "Customer_ID",
                  "rawType": "object",
                  "type": "string"
                },
                {
                  "name": "Month",
                  "rawType": "object",
                  "type": "string"
                },
                {
                  "name": "Name",
                  "rawType": "object",
                  "type": "string"
                },
                {
                  "name": "Age",
                  "rawType": "object",
                  "type": "string"
                },
                {
                  "name": "SSN",
                  "rawType": "object",
                  "type": "string"
                },
                {
                  "name": "Occupation",
                  "rawType": "object",
                  "type": "string"
                },
                {
                  "name": "Annual_Income",
                  "rawType": "object",
                  "type": "string"
                },
                {
                  "name": "Monthly_Inhand_Salary",
                  "rawType": "float64",
                  "type": "float"
                },
                {
                  "name": "Num_Bank_Accounts",
                  "rawType": "int64",
                  "type": "integer"
                },
                {
                  "name": "Num_Credit_Card",
                  "rawType": "int64",
                  "type": "integer"
                },
                {
                  "name": "Interest_Rate",
                  "rawType": "int64",
                  "type": "integer"
                },
                {
                  "name": "Num_of_Loan",
                  "rawType": "object",
                  "type": "string"
                },
                {
                  "name": "Type_of_Loan",
                  "rawType": "object",
                  "type": "string"
                },
                {
                  "name": "Delay_from_due_date",
                  "rawType": "int64",
                  "type": "integer"
                },
                {
                  "name": "Num_of_Delayed_Payment",
                  "rawType": "object",
                  "type": "unknown"
                },
                {
                  "name": "Changed_Credit_Limit",
                  "rawType": "object",
                  "type": "string"
                },
                {
                  "name": "Num_Credit_Inquiries",
                  "rawType": "float64",
                  "type": "float"
                },
                {
                  "name": "Credit_Mix",
                  "rawType": "object",
                  "type": "string"
                },
                {
                  "name": "Outstanding_Debt",
                  "rawType": "object",
                  "type": "string"
                },
                {
                  "name": "Credit_Utilization_Ratio",
                  "rawType": "float64",
                  "type": "float"
                },
                {
                  "name": "Credit_History_Age",
                  "rawType": "object",
                  "type": "unknown"
                },
                {
                  "name": "Payment_of_Min_Amount",
                  "rawType": "object",
                  "type": "string"
                },
                {
                  "name": "Total_EMI_per_month",
                  "rawType": "float64",
                  "type": "float"
                },
                {
                  "name": "Amount_invested_monthly",
                  "rawType": "object",
                  "type": "string"
                },
                {
                  "name": "Payment_Behaviour",
                  "rawType": "object",
                  "type": "string"
                },
                {
                  "name": "Monthly_Balance",
                  "rawType": "object",
                  "type": "string"
                },
                {
                  "name": "Credit_Score",
                  "rawType": "object",
                  "type": "string"
                }
              ],
              "conversionMethod": "pd.DataFrame",
              "ref": "e094abd0-e3cb-4e3b-91c7-2aca8a0954bc",
              "rows": [
                [
                  "0",
                  "0x1602",
                  "CUS_0xd40",
                  "January",
                  "Aaron Maashoh",
                  "23",
                  "821-00-0265",
                  "Scientist",
                  "19114.12",
                  "1824.8433333333328",
                  "3",
                  "4",
                  "3",
                  "4",
                  "Auto Loan, Credit-Builder Loan, Personal Loan, and Home Equity Loan",
                  "3",
                  "7",
                  "11.27",
                  "4.0",
                  "_",
                  "809.98",
                  "26.822619623699016",
                  "22 Years and 1 Months",
                  "No",
                  "49.57494921489417",
                  "80.41529543900253",
                  "High_spent_Small_value_payments",
                  "312.49408867943663",
                  "Good"
                ],
                [
                  "1",
                  "0x1603",
                  "CUS_0xd40",
                  "February",
                  "Aaron Maashoh",
                  "23",
                  "821-00-0265",
                  "Scientist",
                  "19114.12",
                  null,
                  "3",
                  "4",
                  "3",
                  "4",
                  "Auto Loan, Credit-Builder Loan, Personal Loan, and Home Equity Loan",
                  "-1",
                  null,
                  "11.27",
                  "4.0",
                  "Good",
                  "809.98",
                  "31.94496005538421",
                  null,
                  "No",
                  "49.57494921489417",
                  "118.28022162236736",
                  "Low_spent_Large_value_payments",
                  "284.62916249607184",
                  "Good"
                ],
                [
                  "2",
                  "0x1604",
                  "CUS_0xd40",
                  "March",
                  "Aaron Maashoh",
                  "-500",
                  "821-00-0265",
                  "Scientist",
                  "19114.12",
                  null,
                  "3",
                  "4",
                  "3",
                  "4",
                  "Auto Loan, Credit-Builder Loan, Personal Loan, and Home Equity Loan",
                  "3",
                  "7",
                  "_",
                  "4.0",
                  "Good",
                  "809.98",
                  "28.60935202206993",
                  "22 Years and 3 Months",
                  "No",
                  "49.57494921489417",
                  "81.699521264648",
                  "Low_spent_Medium_value_payments",
                  "331.2098628537912",
                  "Good"
                ],
                [
                  "3",
                  "0x1605",
                  "CUS_0xd40",
                  "April",
                  "Aaron Maashoh",
                  "23",
                  "821-00-0265",
                  "Scientist",
                  "19114.12",
                  null,
                  "3",
                  "4",
                  "3",
                  "4",
                  "Auto Loan, Credit-Builder Loan, Personal Loan, and Home Equity Loan",
                  "5",
                  "4",
                  "6.27",
                  "4.0",
                  "Good",
                  "809.98",
                  "31.377861869582357",
                  "22 Years and 4 Months",
                  "No",
                  "49.57494921489417",
                  "199.4580743910713",
                  "Low_spent_Small_value_payments",
                  "223.45130972736786",
                  "Good"
                ],
                [
                  "4",
                  "0x1606",
                  "CUS_0xd40",
                  "May",
                  "Aaron Maashoh",
                  "23",
                  "821-00-0265",
                  "Scientist",
                  "19114.12",
                  "1824.8433333333328",
                  "3",
                  "4",
                  "3",
                  "4",
                  "Auto Loan, Credit-Builder Loan, Personal Loan, and Home Equity Loan",
                  "6",
                  null,
                  "11.27",
                  "4.0",
                  "Good",
                  "809.98",
                  "24.797346908844982",
                  "22 Years and 5 Months",
                  "No",
                  "49.57494921489417",
                  "41.420153086217326",
                  "High_spent_Medium_value_payments",
                  "341.48923103222177",
                  "Good"
                ]
              ],
              "shape": {
                "columns": 28,
                "rows": 5
              }
            },
            "text/html": [
              "<div>\n",
              "<style scoped>\n",
              "    .dataframe tbody tr th:only-of-type {\n",
              "        vertical-align: middle;\n",
              "    }\n",
              "\n",
              "    .dataframe tbody tr th {\n",
              "        vertical-align: top;\n",
              "    }\n",
              "\n",
              "    .dataframe thead th {\n",
              "        text-align: right;\n",
              "    }\n",
              "</style>\n",
              "<table border=\"1\" class=\"dataframe\">\n",
              "  <thead>\n",
              "    <tr style=\"text-align: right;\">\n",
              "      <th></th>\n",
              "      <th>ID</th>\n",
              "      <th>Customer_ID</th>\n",
              "      <th>Month</th>\n",
              "      <th>Name</th>\n",
              "      <th>Age</th>\n",
              "      <th>SSN</th>\n",
              "      <th>Occupation</th>\n",
              "      <th>Annual_Income</th>\n",
              "      <th>Monthly_Inhand_Salary</th>\n",
              "      <th>Num_Bank_Accounts</th>\n",
              "      <th>...</th>\n",
              "      <th>Credit_Mix</th>\n",
              "      <th>Outstanding_Debt</th>\n",
              "      <th>Credit_Utilization_Ratio</th>\n",
              "      <th>Credit_History_Age</th>\n",
              "      <th>Payment_of_Min_Amount</th>\n",
              "      <th>Total_EMI_per_month</th>\n",
              "      <th>Amount_invested_monthly</th>\n",
              "      <th>Payment_Behaviour</th>\n",
              "      <th>Monthly_Balance</th>\n",
              "      <th>Credit_Score</th>\n",
              "    </tr>\n",
              "  </thead>\n",
              "  <tbody>\n",
              "    <tr>\n",
              "      <th>0</th>\n",
              "      <td>0x1602</td>\n",
              "      <td>CUS_0xd40</td>\n",
              "      <td>January</td>\n",
              "      <td>Aaron Maashoh</td>\n",
              "      <td>23</td>\n",
              "      <td>821-00-0265</td>\n",
              "      <td>Scientist</td>\n",
              "      <td>19114.12</td>\n",
              "      <td>1824.843333</td>\n",
              "      <td>3</td>\n",
              "      <td>...</td>\n",
              "      <td>_</td>\n",
              "      <td>809.98</td>\n",
              "      <td>26.822620</td>\n",
              "      <td>22 Years and 1 Months</td>\n",
              "      <td>No</td>\n",
              "      <td>49.574949</td>\n",
              "      <td>80.41529543900253</td>\n",
              "      <td>High_spent_Small_value_payments</td>\n",
              "      <td>312.49408867943663</td>\n",
              "      <td>Good</td>\n",
              "    </tr>\n",
              "    <tr>\n",
              "      <th>1</th>\n",
              "      <td>0x1603</td>\n",
              "      <td>CUS_0xd40</td>\n",
              "      <td>February</td>\n",
              "      <td>Aaron Maashoh</td>\n",
              "      <td>23</td>\n",
              "      <td>821-00-0265</td>\n",
              "      <td>Scientist</td>\n",
              "      <td>19114.12</td>\n",
              "      <td>NaN</td>\n",
              "      <td>3</td>\n",
              "      <td>...</td>\n",
              "      <td>Good</td>\n",
              "      <td>809.98</td>\n",
              "      <td>31.944960</td>\n",
              "      <td>NaN</td>\n",
              "      <td>No</td>\n",
              "      <td>49.574949</td>\n",
              "      <td>118.28022162236736</td>\n",
              "      <td>Low_spent_Large_value_payments</td>\n",
              "      <td>284.62916249607184</td>\n",
              "      <td>Good</td>\n",
              "    </tr>\n",
              "    <tr>\n",
              "      <th>2</th>\n",
              "      <td>0x1604</td>\n",
              "      <td>CUS_0xd40</td>\n",
              "      <td>March</td>\n",
              "      <td>Aaron Maashoh</td>\n",
              "      <td>-500</td>\n",
              "      <td>821-00-0265</td>\n",
              "      <td>Scientist</td>\n",
              "      <td>19114.12</td>\n",
              "      <td>NaN</td>\n",
              "      <td>3</td>\n",
              "      <td>...</td>\n",
              "      <td>Good</td>\n",
              "      <td>809.98</td>\n",
              "      <td>28.609352</td>\n",
              "      <td>22 Years and 3 Months</td>\n",
              "      <td>No</td>\n",
              "      <td>49.574949</td>\n",
              "      <td>81.699521264648</td>\n",
              "      <td>Low_spent_Medium_value_payments</td>\n",
              "      <td>331.2098628537912</td>\n",
              "      <td>Good</td>\n",
              "    </tr>\n",
              "    <tr>\n",
              "      <th>3</th>\n",
              "      <td>0x1605</td>\n",
              "      <td>CUS_0xd40</td>\n",
              "      <td>April</td>\n",
              "      <td>Aaron Maashoh</td>\n",
              "      <td>23</td>\n",
              "      <td>821-00-0265</td>\n",
              "      <td>Scientist</td>\n",
              "      <td>19114.12</td>\n",
              "      <td>NaN</td>\n",
              "      <td>3</td>\n",
              "      <td>...</td>\n",
              "      <td>Good</td>\n",
              "      <td>809.98</td>\n",
              "      <td>31.377862</td>\n",
              "      <td>22 Years and 4 Months</td>\n",
              "      <td>No</td>\n",
              "      <td>49.574949</td>\n",
              "      <td>199.4580743910713</td>\n",
              "      <td>Low_spent_Small_value_payments</td>\n",
              "      <td>223.45130972736786</td>\n",
              "      <td>Good</td>\n",
              "    </tr>\n",
              "    <tr>\n",
              "      <th>4</th>\n",
              "      <td>0x1606</td>\n",
              "      <td>CUS_0xd40</td>\n",
              "      <td>May</td>\n",
              "      <td>Aaron Maashoh</td>\n",
              "      <td>23</td>\n",
              "      <td>821-00-0265</td>\n",
              "      <td>Scientist</td>\n",
              "      <td>19114.12</td>\n",
              "      <td>1824.843333</td>\n",
              "      <td>3</td>\n",
              "      <td>...</td>\n",
              "      <td>Good</td>\n",
              "      <td>809.98</td>\n",
              "      <td>24.797347</td>\n",
              "      <td>22 Years and 5 Months</td>\n",
              "      <td>No</td>\n",
              "      <td>49.574949</td>\n",
              "      <td>41.420153086217326</td>\n",
              "      <td>High_spent_Medium_value_payments</td>\n",
              "      <td>341.48923103222177</td>\n",
              "      <td>Good</td>\n",
              "    </tr>\n",
              "  </tbody>\n",
              "</table>\n",
              "<p>5 rows × 28 columns</p>\n",
              "</div>"
            ],
            "text/plain": [
              "       ID Customer_ID     Month           Name   Age          SSN Occupation  \\\n",
              "0  0x1602   CUS_0xd40   January  Aaron Maashoh    23  821-00-0265  Scientist   \n",
              "1  0x1603   CUS_0xd40  February  Aaron Maashoh    23  821-00-0265  Scientist   \n",
              "2  0x1604   CUS_0xd40     March  Aaron Maashoh  -500  821-00-0265  Scientist   \n",
              "3  0x1605   CUS_0xd40     April  Aaron Maashoh    23  821-00-0265  Scientist   \n",
              "4  0x1606   CUS_0xd40       May  Aaron Maashoh    23  821-00-0265  Scientist   \n",
              "\n",
              "  Annual_Income  Monthly_Inhand_Salary  Num_Bank_Accounts  ...  Credit_Mix  \\\n",
              "0      19114.12            1824.843333                  3  ...           _   \n",
              "1      19114.12                    NaN                  3  ...        Good   \n",
              "2      19114.12                    NaN                  3  ...        Good   \n",
              "3      19114.12                    NaN                  3  ...        Good   \n",
              "4      19114.12            1824.843333                  3  ...        Good   \n",
              "\n",
              "   Outstanding_Debt Credit_Utilization_Ratio     Credit_History_Age  \\\n",
              "0            809.98                26.822620  22 Years and 1 Months   \n",
              "1            809.98                31.944960                    NaN   \n",
              "2            809.98                28.609352  22 Years and 3 Months   \n",
              "3            809.98                31.377862  22 Years and 4 Months   \n",
              "4            809.98                24.797347  22 Years and 5 Months   \n",
              "\n",
              "   Payment_of_Min_Amount Total_EMI_per_month Amount_invested_monthly  \\\n",
              "0                     No           49.574949       80.41529543900253   \n",
              "1                     No           49.574949      118.28022162236736   \n",
              "2                     No           49.574949         81.699521264648   \n",
              "3                     No           49.574949       199.4580743910713   \n",
              "4                     No           49.574949      41.420153086217326   \n",
              "\n",
              "                  Payment_Behaviour     Monthly_Balance Credit_Score  \n",
              "0   High_spent_Small_value_payments  312.49408867943663         Good  \n",
              "1    Low_spent_Large_value_payments  284.62916249607184         Good  \n",
              "2   Low_spent_Medium_value_payments   331.2098628537912         Good  \n",
              "3    Low_spent_Small_value_payments  223.45130972736786         Good  \n",
              "4  High_spent_Medium_value_payments  341.48923103222177         Good  \n",
              "\n",
              "[5 rows x 28 columns]"
            ]
          },
          "execution_count": 59,
          "metadata": {},
          "output_type": "execute_result"
        }
      ],
      "source": [
        "train.head()"
      ]
    },
    {
      "cell_type": "code",
      "execution_count": 60,
      "id": "6877239a",
      "metadata": {},
      "outputs": [
        {
          "data": {
            "application/vnd.microsoft.datawrangler.viewer.v0+json": {
              "columns": [
                {
                  "name": "index",
                  "rawType": "object",
                  "type": "string"
                },
                {
                  "name": "count",
                  "rawType": "object",
                  "type": "unknown"
                },
                {
                  "name": "unique",
                  "rawType": "object",
                  "type": "unknown"
                },
                {
                  "name": "top",
                  "rawType": "object",
                  "type": "string"
                },
                {
                  "name": "freq",
                  "rawType": "object",
                  "type": "unknown"
                }
              ],
              "conversionMethod": "pd.DataFrame",
              "ref": "23bca5b0-4286-47d8-b485-ac7ff3058402",
              "rows": [
                [
                  "ID",
                  "100000",
                  "100000",
                  "0x25fd5",
                  "1"
                ],
                [
                  "Customer_ID",
                  "100000",
                  "12500",
                  "CUS_0x942c",
                  "8"
                ],
                [
                  "Month",
                  "100000",
                  "8",
                  "January",
                  "12500"
                ],
                [
                  "Name",
                  "90015",
                  "10139",
                  "Stevex",
                  "44"
                ],
                [
                  "Age",
                  "100000",
                  "1788",
                  "38",
                  "2833"
                ],
                [
                  "SSN",
                  "100000",
                  "12501",
                  "#F%$D@*&8",
                  "5572"
                ],
                [
                  "Occupation",
                  "100000",
                  "16",
                  "_______",
                  "7062"
                ],
                [
                  "Annual_Income",
                  "100000",
                  "18940",
                  "17273.83",
                  "16"
                ],
                [
                  "Num_of_Loan",
                  "100000",
                  "434",
                  "3",
                  "14386"
                ],
                [
                  "Type_of_Loan",
                  "88592",
                  "6260",
                  "Not Specified",
                  "1408"
                ],
                [
                  "Num_of_Delayed_Payment",
                  "92998",
                  "749",
                  "19",
                  "5327"
                ],
                [
                  "Changed_Credit_Limit",
                  "100000",
                  "4384",
                  "_",
                  "2091"
                ],
                [
                  "Credit_Mix",
                  "100000",
                  "4",
                  "Standard",
                  "36479"
                ],
                [
                  "Outstanding_Debt",
                  "100000",
                  "13178",
                  "1360.45",
                  "24"
                ],
                [
                  "Credit_History_Age",
                  "90970",
                  "404",
                  "15 Years and 11 Months",
                  "446"
                ],
                [
                  "Payment_of_Min_Amount",
                  "100000",
                  "3",
                  "Yes",
                  "52326"
                ],
                [
                  "Amount_invested_monthly",
                  "95521",
                  "91049",
                  "__10000__",
                  "4305"
                ],
                [
                  "Payment_Behaviour",
                  "100000",
                  "7",
                  "Low_spent_Small_value_payments",
                  "25513"
                ],
                [
                  "Monthly_Balance",
                  "98800",
                  "98792",
                  "__-333333333333333333333333333__",
                  "9"
                ],
                [
                  "Credit_Score",
                  "100000",
                  "3",
                  "Standard",
                  "53174"
                ]
              ],
              "shape": {
                "columns": 4,
                "rows": 20
              }
            },
            "text/html": [
              "<div>\n",
              "<style scoped>\n",
              "    .dataframe tbody tr th:only-of-type {\n",
              "        vertical-align: middle;\n",
              "    }\n",
              "\n",
              "    .dataframe tbody tr th {\n",
              "        vertical-align: top;\n",
              "    }\n",
              "\n",
              "    .dataframe thead th {\n",
              "        text-align: right;\n",
              "    }\n",
              "</style>\n",
              "<table border=\"1\" class=\"dataframe\">\n",
              "  <thead>\n",
              "    <tr style=\"text-align: right;\">\n",
              "      <th></th>\n",
              "      <th>count</th>\n",
              "      <th>unique</th>\n",
              "      <th>top</th>\n",
              "      <th>freq</th>\n",
              "    </tr>\n",
              "  </thead>\n",
              "  <tbody>\n",
              "    <tr>\n",
              "      <th>ID</th>\n",
              "      <td>100000</td>\n",
              "      <td>100000</td>\n",
              "      <td>0x25fd5</td>\n",
              "      <td>1</td>\n",
              "    </tr>\n",
              "    <tr>\n",
              "      <th>Customer_ID</th>\n",
              "      <td>100000</td>\n",
              "      <td>12500</td>\n",
              "      <td>CUS_0x942c</td>\n",
              "      <td>8</td>\n",
              "    </tr>\n",
              "    <tr>\n",
              "      <th>Month</th>\n",
              "      <td>100000</td>\n",
              "      <td>8</td>\n",
              "      <td>January</td>\n",
              "      <td>12500</td>\n",
              "    </tr>\n",
              "    <tr>\n",
              "      <th>Name</th>\n",
              "      <td>90015</td>\n",
              "      <td>10139</td>\n",
              "      <td>Stevex</td>\n",
              "      <td>44</td>\n",
              "    </tr>\n",
              "    <tr>\n",
              "      <th>Age</th>\n",
              "      <td>100000</td>\n",
              "      <td>1788</td>\n",
              "      <td>38</td>\n",
              "      <td>2833</td>\n",
              "    </tr>\n",
              "    <tr>\n",
              "      <th>SSN</th>\n",
              "      <td>100000</td>\n",
              "      <td>12501</td>\n",
              "      <td>#F%$D@*&amp;8</td>\n",
              "      <td>5572</td>\n",
              "    </tr>\n",
              "    <tr>\n",
              "      <th>Occupation</th>\n",
              "      <td>100000</td>\n",
              "      <td>16</td>\n",
              "      <td>_______</td>\n",
              "      <td>7062</td>\n",
              "    </tr>\n",
              "    <tr>\n",
              "      <th>Annual_Income</th>\n",
              "      <td>100000</td>\n",
              "      <td>18940</td>\n",
              "      <td>17273.83</td>\n",
              "      <td>16</td>\n",
              "    </tr>\n",
              "    <tr>\n",
              "      <th>Num_of_Loan</th>\n",
              "      <td>100000</td>\n",
              "      <td>434</td>\n",
              "      <td>3</td>\n",
              "      <td>14386</td>\n",
              "    </tr>\n",
              "    <tr>\n",
              "      <th>Type_of_Loan</th>\n",
              "      <td>88592</td>\n",
              "      <td>6260</td>\n",
              "      <td>Not Specified</td>\n",
              "      <td>1408</td>\n",
              "    </tr>\n",
              "    <tr>\n",
              "      <th>Num_of_Delayed_Payment</th>\n",
              "      <td>92998</td>\n",
              "      <td>749</td>\n",
              "      <td>19</td>\n",
              "      <td>5327</td>\n",
              "    </tr>\n",
              "    <tr>\n",
              "      <th>Changed_Credit_Limit</th>\n",
              "      <td>100000</td>\n",
              "      <td>4384</td>\n",
              "      <td>_</td>\n",
              "      <td>2091</td>\n",
              "    </tr>\n",
              "    <tr>\n",
              "      <th>Credit_Mix</th>\n",
              "      <td>100000</td>\n",
              "      <td>4</td>\n",
              "      <td>Standard</td>\n",
              "      <td>36479</td>\n",
              "    </tr>\n",
              "    <tr>\n",
              "      <th>Outstanding_Debt</th>\n",
              "      <td>100000</td>\n",
              "      <td>13178</td>\n",
              "      <td>1360.45</td>\n",
              "      <td>24</td>\n",
              "    </tr>\n",
              "    <tr>\n",
              "      <th>Credit_History_Age</th>\n",
              "      <td>90970</td>\n",
              "      <td>404</td>\n",
              "      <td>15 Years and 11 Months</td>\n",
              "      <td>446</td>\n",
              "    </tr>\n",
              "    <tr>\n",
              "      <th>Payment_of_Min_Amount</th>\n",
              "      <td>100000</td>\n",
              "      <td>3</td>\n",
              "      <td>Yes</td>\n",
              "      <td>52326</td>\n",
              "    </tr>\n",
              "    <tr>\n",
              "      <th>Amount_invested_monthly</th>\n",
              "      <td>95521</td>\n",
              "      <td>91049</td>\n",
              "      <td>__10000__</td>\n",
              "      <td>4305</td>\n",
              "    </tr>\n",
              "    <tr>\n",
              "      <th>Payment_Behaviour</th>\n",
              "      <td>100000</td>\n",
              "      <td>7</td>\n",
              "      <td>Low_spent_Small_value_payments</td>\n",
              "      <td>25513</td>\n",
              "    </tr>\n",
              "    <tr>\n",
              "      <th>Monthly_Balance</th>\n",
              "      <td>98800</td>\n",
              "      <td>98792</td>\n",
              "      <td>__-333333333333333333333333333__</td>\n",
              "      <td>9</td>\n",
              "    </tr>\n",
              "    <tr>\n",
              "      <th>Credit_Score</th>\n",
              "      <td>100000</td>\n",
              "      <td>3</td>\n",
              "      <td>Standard</td>\n",
              "      <td>53174</td>\n",
              "    </tr>\n",
              "  </tbody>\n",
              "</table>\n",
              "</div>"
            ],
            "text/plain": [
              "                          count  unique                               top  \\\n",
              "ID                       100000  100000                           0x25fd5   \n",
              "Customer_ID              100000   12500                        CUS_0x942c   \n",
              "Month                    100000       8                           January   \n",
              "Name                      90015   10139                            Stevex   \n",
              "Age                      100000    1788                                38   \n",
              "SSN                      100000   12501                         #F%$D@*&8   \n",
              "Occupation               100000      16                           _______   \n",
              "Annual_Income            100000   18940                          17273.83   \n",
              "Num_of_Loan              100000     434                                 3   \n",
              "Type_of_Loan              88592    6260                     Not Specified   \n",
              "Num_of_Delayed_Payment    92998     749                                19   \n",
              "Changed_Credit_Limit     100000    4384                                 _   \n",
              "Credit_Mix               100000       4                          Standard   \n",
              "Outstanding_Debt         100000   13178                           1360.45   \n",
              "Credit_History_Age        90970     404            15 Years and 11 Months   \n",
              "Payment_of_Min_Amount    100000       3                               Yes   \n",
              "Amount_invested_monthly   95521   91049                         __10000__   \n",
              "Payment_Behaviour        100000       7    Low_spent_Small_value_payments   \n",
              "Monthly_Balance           98800   98792  __-333333333333333333333333333__   \n",
              "Credit_Score             100000       3                          Standard   \n",
              "\n",
              "                          freq  \n",
              "ID                           1  \n",
              "Customer_ID                  8  \n",
              "Month                    12500  \n",
              "Name                        44  \n",
              "Age                       2833  \n",
              "SSN                       5572  \n",
              "Occupation                7062  \n",
              "Annual_Income               16  \n",
              "Num_of_Loan              14386  \n",
              "Type_of_Loan              1408  \n",
              "Num_of_Delayed_Payment    5327  \n",
              "Changed_Credit_Limit      2091  \n",
              "Credit_Mix               36479  \n",
              "Outstanding_Debt            24  \n",
              "Credit_History_Age         446  \n",
              "Payment_of_Min_Amount    52326  \n",
              "Amount_invested_monthly   4305  \n",
              "Payment_Behaviour        25513  \n",
              "Monthly_Balance              9  \n",
              "Credit_Score             53174  "
            ]
          },
          "execution_count": 60,
          "metadata": {},
          "output_type": "execute_result"
        }
      ],
      "source": [
        "train.describe(include='object').T"
      ]
    },
    {
      "cell_type": "code",
      "execution_count": 61,
      "id": "5111a24c",
      "metadata": {},
      "outputs": [
        {
          "data": {
            "text/plain": [
              "np.int64(0)"
            ]
          },
          "execution_count": 61,
          "metadata": {},
          "output_type": "execute_result"
        }
      ],
      "source": [
        "train.duplicated().sum()"
      ]
    },
    {
      "cell_type": "markdown",
      "id": "8bc6e097",
      "metadata": {},
      "source": [
        "- NO duplicated data"
      ]
    },
    {
      "cell_type": "code",
      "execution_count": 62,
      "id": "6f0ea8aa",
      "metadata": {},
      "outputs": [
        {
          "data": {
            "text/plain": [
              "ID                              0\n",
              "Customer_ID                     0\n",
              "Month                           0\n",
              "Name                         9985\n",
              "Age                             0\n",
              "SSN                             0\n",
              "Occupation                      0\n",
              "Annual_Income                   0\n",
              "Monthly_Inhand_Salary       15002\n",
              "Num_Bank_Accounts               0\n",
              "Num_Credit_Card                 0\n",
              "Interest_Rate                   0\n",
              "Num_of_Loan                     0\n",
              "Type_of_Loan                11408\n",
              "Delay_from_due_date             0\n",
              "Num_of_Delayed_Payment       7002\n",
              "Changed_Credit_Limit            0\n",
              "Num_Credit_Inquiries         1965\n",
              "Credit_Mix                      0\n",
              "Outstanding_Debt                0\n",
              "Credit_Utilization_Ratio        0\n",
              "Credit_History_Age           9030\n",
              "Payment_of_Min_Amount           0\n",
              "Total_EMI_per_month             0\n",
              "Amount_invested_monthly      4479\n",
              "Payment_Behaviour               0\n",
              "Monthly_Balance              1200\n",
              "Credit_Score                    0\n",
              "dtype: int64"
            ]
          },
          "execution_count": 62,
          "metadata": {},
          "output_type": "execute_result"
        }
      ],
      "source": [
        "train.isnull().sum()"
      ]
    },
    {
      "cell_type": "markdown",
      "id": "054b2779",
      "metadata": {},
      "source": [
        "- there are some nulls in data\n"
      ]
    },
    {
      "cell_type": "code",
      "execution_count": 63,
      "id": "bb580c46",
      "metadata": {},
      "outputs": [
        {
          "name": "stdout",
          "output_type": "stream",
          "text": [
            "<class 'pandas.core.frame.DataFrame'>\n",
            "RangeIndex: 100000 entries, 0 to 99999\n",
            "Data columns (total 28 columns):\n",
            " #   Column                    Non-Null Count   Dtype  \n",
            "---  ------                    --------------   -----  \n",
            " 0   ID                        100000 non-null  object \n",
            " 1   Customer_ID               100000 non-null  object \n",
            " 2   Month                     100000 non-null  object \n",
            " 3   Name                      90015 non-null   object \n",
            " 4   Age                       100000 non-null  object \n",
            " 5   SSN                       100000 non-null  object \n",
            " 6   Occupation                100000 non-null  object \n",
            " 7   Annual_Income             100000 non-null  object \n",
            " 8   Monthly_Inhand_Salary     84998 non-null   float64\n",
            " 9   Num_Bank_Accounts         100000 non-null  int64  \n",
            " 10  Num_Credit_Card           100000 non-null  int64  \n",
            " 11  Interest_Rate             100000 non-null  int64  \n",
            " 12  Num_of_Loan               100000 non-null  object \n",
            " 13  Type_of_Loan              88592 non-null   object \n",
            " 14  Delay_from_due_date       100000 non-null  int64  \n",
            " 15  Num_of_Delayed_Payment    92998 non-null   object \n",
            " 16  Changed_Credit_Limit      100000 non-null  object \n",
            " 17  Num_Credit_Inquiries      98035 non-null   float64\n",
            " 18  Credit_Mix                100000 non-null  object \n",
            " 19  Outstanding_Debt          100000 non-null  object \n",
            " 20  Credit_Utilization_Ratio  100000 non-null  float64\n",
            " 21  Credit_History_Age        90970 non-null   object \n",
            " 22  Payment_of_Min_Amount     100000 non-null  object \n",
            " 23  Total_EMI_per_month       100000 non-null  float64\n",
            " 24  Amount_invested_monthly   95521 non-null   object \n",
            " 25  Payment_Behaviour         100000 non-null  object \n",
            " 26  Monthly_Balance           98800 non-null   object \n",
            " 27  Credit_Score              100000 non-null  object \n",
            "dtypes: float64(4), int64(4), object(20)\n",
            "memory usage: 21.4+ MB\n"
          ]
        }
      ],
      "source": [
        "train.info()"
      ]
    },
    {
      "cell_type": "markdown",
      "id": "9b4242ec",
      "metadata": {},
      "source": [
        "- there are some data expected to be numbers but they are object"
      ]
    },
    {
      "cell_type": "code",
      "execution_count": 64,
      "id": "aa9ac22e",
      "metadata": {},
      "outputs": [
        {
          "data": {
            "text/plain": [
              "Age\n",
              "38      2833\n",
              "28      2829\n",
              "31      2806\n",
              "26      2792\n",
              "32      2749\n",
              "        ... \n",
              "6618       1\n",
              "3155       1\n",
              "5063       1\n",
              "2875       1\n",
              "4347       1\n",
              "Name: count, Length: 1788, dtype: int64"
            ]
          },
          "execution_count": 64,
          "metadata": {},
          "output_type": "execute_result"
        }
      ],
      "source": [
        "train.Age.value_counts(ascending=False)"
      ]
    },
    {
      "cell_type": "markdown",
      "id": "df57f37f",
      "metadata": {},
      "source": [
        "- there are nonlogical values"
      ]
    },
    {
      "cell_type": "code",
      "execution_count": 65,
      "id": "f9775283",
      "metadata": {},
      "outputs": [
        {
          "data": {
            "text/plain": [
              "Changed_Credit_Limit\n",
              "_                    2091\n",
              "8.22                  133\n",
              "11.5                  127\n",
              "11.32                 126\n",
              "7.35                  121\n",
              "                     ... \n",
              "30.16                   1\n",
              "4.710000000000001       1\n",
              "-4.39                   1\n",
              "27.38                   1\n",
              "16.63                   1\n",
              "Name: count, Length: 4384, dtype: int64"
            ]
          },
          "execution_count": 65,
          "metadata": {},
          "output_type": "execute_result"
        }
      ],
      "source": [
        "train[\"Changed_Credit_Limit\"].value_counts()"
      ]
    },
    {
      "cell_type": "markdown",
      "id": "40a49e3a",
      "metadata": {},
      "source": [
        "- negative values"
      ]
    },
    {
      "cell_type": "code",
      "execution_count": 66,
      "id": "89039508",
      "metadata": {},
      "outputs": [
        {
          "data": {
            "text/plain": [
              "Monthly_Balance\n",
              "__-333333333333333333333333333__    9\n",
              "328.655224                          1\n",
              "432.559318                          1\n",
              "470.69062692529184                  1\n",
              "393.673696                          1\n",
              "                                   ..\n",
              "300.008498                          1\n",
              "396.997157                          1\n",
              "368.154976                          1\n",
              "412.669312                          1\n",
              "895.494583180492                    1\n",
              "Name: count, Length: 98792, dtype: int64"
            ]
          },
          "execution_count": 66,
          "metadata": {},
          "output_type": "execute_result"
        }
      ],
      "source": [
        "train[\"Monthly_Balance\"].value_counts()"
      ]
    },
    {
      "cell_type": "markdown",
      "id": "a3c146dd",
      "metadata": {},
      "source": [
        "- negative values"
      ]
    },
    {
      "cell_type": "code",
      "execution_count": 67,
      "id": "a38ef96a",
      "metadata": {},
      "outputs": [
        {
          "data": {
            "text/plain": [
              "Payment_Behaviour\n",
              "Low_spent_Small_value_payments      25513\n",
              "High_spent_Medium_value_payments    17540\n",
              "Low_spent_Medium_value_payments     13861\n",
              "High_spent_Large_value_payments     13721\n",
              "High_spent_Small_value_payments     11340\n",
              "Low_spent_Large_value_payments      10425\n",
              "!@9#%8                               7600\n",
              "Name: count, dtype: int64"
            ]
          },
          "execution_count": 67,
          "metadata": {},
          "output_type": "execute_result"
        }
      ],
      "source": [
        "train[\"Payment_Behaviour\"].value_counts()"
      ]
    },
    {
      "cell_type": "markdown",
      "id": "992ad8e7",
      "metadata": {},
      "source": [
        "- there are ( !@9#%8  ) in data"
      ]
    },
    {
      "cell_type": "code",
      "execution_count": 68,
      "id": "9a2906e1",
      "metadata": {},
      "outputs": [
        {
          "data": {
            "text/plain": [
              "Occupation\n",
              "_______          7062\n",
              "Lawyer           6575\n",
              "Architect        6355\n",
              "Engineer         6350\n",
              "Scientist        6299\n",
              "Mechanic         6291\n",
              "Accountant       6271\n",
              "Developer        6235\n",
              "Media_Manager    6232\n",
              "Teacher          6215\n",
              "Entrepreneur     6174\n",
              "Doctor           6087\n",
              "Journalist       6085\n",
              "Manager          5973\n",
              "Musician         5911\n",
              "Writer           5885\n",
              "Name: count, dtype: int64"
            ]
          },
          "execution_count": 68,
          "metadata": {},
          "output_type": "execute_result"
        }
      ],
      "source": [
        "train[\"Occupation\"].value_counts()"
      ]
    },
    {
      "cell_type": "markdown",
      "id": "28e40465",
      "metadata": {},
      "source": [
        "- there are ( _______ ) in data"
      ]
    },
    {
      "cell_type": "code",
      "execution_count": 69,
      "id": "1841bb68",
      "metadata": {},
      "outputs": [
        {
          "data": {
            "text/plain": [
              "Month\n",
              "January     12500\n",
              "February    12500\n",
              "March       12500\n",
              "April       12500\n",
              "May         12500\n",
              "June        12500\n",
              "July        12500\n",
              "August      12500\n",
              "Name: count, dtype: int64"
            ]
          },
          "execution_count": 69,
          "metadata": {},
          "output_type": "execute_result"
        }
      ],
      "source": [
        "train[\"Month\"].value_counts()"
      ]
    },
    {
      "cell_type": "markdown",
      "id": "7893b4ed",
      "metadata": {},
      "source": [
        "- Does not include all months"
      ]
    },
    {
      "cell_type": "code",
      "execution_count": 70,
      "id": "c23d7802",
      "metadata": {},
      "outputs": [
        {
          "data": {
            "text/plain": [
              "Num_Bank_Accounts\n",
              "6       13001\n",
              "7       12823\n",
              "8       12765\n",
              "4       12186\n",
              "5       12118\n",
              "        ...  \n",
              "1091        1\n",
              "1123        1\n",
              "1657        1\n",
              "299         1\n",
              "1240        1\n",
              "Name: count, Length: 943, dtype: int64"
            ]
          },
          "execution_count": 70,
          "metadata": {},
          "output_type": "execute_result"
        }
      ],
      "source": [
        "train[\"Num_Bank_Accounts\"].value_counts(ascending=False)"
      ]
    },
    {
      "cell_type": "code",
      "execution_count": 71,
      "id": "7e6057c0",
      "metadata": {},
      "outputs": [
        {
          "data": {
            "text/plain": [
              "Num_Bank_Accounts\n",
              "803     7\n",
              "1668    5\n",
              "105     5\n",
              "791     5\n",
              "210     4\n",
              "       ..\n",
              "463     1\n",
              "453     1\n",
              "472     1\n",
              "636     1\n",
              "1703    1\n",
              "Name: count, Length: 882, dtype: int64"
            ]
          },
          "execution_count": 71,
          "metadata": {},
          "output_type": "execute_result"
        }
      ],
      "source": [
        "train[train[\"Num_Bank_Accounts\"] > 100][\"Num_Bank_Accounts\"].value_counts()"
      ]
    },
    {
      "cell_type": "code",
      "execution_count": 72,
      "id": "44b65804",
      "metadata": {},
      "outputs": [
        {
          "data": {
            "text/plain": [
              "Num_Bank_Accounts\n",
              "-1    21\n",
              "Name: count, dtype: int64"
            ]
          },
          "execution_count": 72,
          "metadata": {},
          "output_type": "execute_result"
        }
      ],
      "source": [
        "train[train[\"Num_Bank_Accounts\"] < 0 ][\"Num_Bank_Accounts\"].value_counts()"
      ]
    },
    {
      "cell_type": "markdown",
      "id": "bc7323df",
      "metadata": {},
      "source": [
        "- there are outliers\n",
        "- there are negative values"
      ]
    },
    {
      "cell_type": "code",
      "execution_count": 73,
      "id": "725fcb92",
      "metadata": {},
      "outputs": [
        {
          "data": {
            "text/plain": [
              "Num_Credit_Card\n",
              "5       18459\n",
              "7       16615\n",
              "6       16559\n",
              "4       14030\n",
              "3       13277\n",
              "        ...  \n",
              "1405        1\n",
              "708         1\n",
              "62          1\n",
              "343         1\n",
              "481         1\n",
              "Name: count, Length: 1179, dtype: int64"
            ]
          },
          "execution_count": 73,
          "metadata": {},
          "output_type": "execute_result"
        }
      ],
      "source": [
        "train[\"Num_Credit_Card\"].value_counts()"
      ]
    },
    {
      "cell_type": "markdown",
      "id": "feaee9b9",
      "metadata": {},
      "source": [
        "- there are outliers"
      ]
    },
    {
      "cell_type": "code",
      "execution_count": 74,
      "id": "cd0a06c7",
      "metadata": {},
      "outputs": [
        {
          "data": {
            "text/plain": [
              "Num_Credit_Inquiries\n",
              "4.0       11271\n",
              "3.0        8890\n",
              "6.0        8111\n",
              "7.0        8058\n",
              "2.0        8028\n",
              "          ...  \n",
              "1618.0        1\n",
              "758.0         1\n",
              "735.0         1\n",
              "2483.0        1\n",
              "1960.0        1\n",
              "Name: count, Length: 1223, dtype: int64"
            ]
          },
          "execution_count": 74,
          "metadata": {},
          "output_type": "execute_result"
        }
      ],
      "source": [
        "train[\"Num_Credit_Inquiries\"].value_counts()"
      ]
    },
    {
      "cell_type": "markdown",
      "id": "941816a8",
      "metadata": {},
      "source": [
        "- there are outliers"
      ]
    },
    {
      "cell_type": "code",
      "execution_count": 75,
      "id": "be01eab0",
      "metadata": {},
      "outputs": [
        {
          "data": {
            "text/plain": [
              "Amount_invested_monthly\n",
              "__10000__             4305\n",
              "0.0                    169\n",
              "167.1638651610451        1\n",
              "80.41529543900253        1\n",
              "118.28022162236736       1\n",
              "                      ... \n",
              "215.48638555294247       1\n",
              "78.49772657092517        1\n",
              "147.33990786653956       1\n",
              "82.82557214415213        1\n",
              "42.935565846112745       1\n",
              "Name: count, Length: 91049, dtype: int64"
            ]
          },
          "execution_count": 75,
          "metadata": {},
          "output_type": "execute_result"
        }
      ],
      "source": [
        "train[\"Amount_invested_monthly\"].value_counts()"
      ]
    },
    {
      "cell_type": "markdown",
      "id": "70a9402d",
      "metadata": {},
      "source": [
        "there are ( __ 10000__ ) in data"
      ]
    },
    {
      "cell_type": "code",
      "execution_count": 76,
      "id": "cdd2ea46",
      "metadata": {},
      "outputs": [
        {
          "data": {
            "text/plain": [
              "Credit_Mix\n",
              "Standard    36479\n",
              "Good        24337\n",
              "_           20195\n",
              "Bad         18989\n",
              "Name: count, dtype: int64"
            ]
          },
          "execution_count": 76,
          "metadata": {},
          "output_type": "execute_result"
        }
      ],
      "source": [
        "train[\"Credit_Mix\"].value_counts()"
      ]
    },
    {
      "cell_type": "markdown",
      "id": "6d610007",
      "metadata": {},
      "source": [
        "- there are ( _ ) must be handeled"
      ]
    },
    {
      "cell_type": "code",
      "execution_count": 77,
      "id": "bfc54ad3",
      "metadata": {},
      "outputs": [
        {
          "data": {
            "text/plain": [
              "Type_of_Loan\n",
              "Not Specified                                                                                        1408\n",
              "Credit-Builder Loan                                                                                  1280\n",
              "Personal Loan                                                                                        1272\n",
              "Debt Consolidation Loan                                                                              1264\n",
              "Student Loan                                                                                         1240\n",
              "                                                                                                     ... \n",
              "Auto Loan, Payday Loan, Auto Loan, Student Loan, Student Loan, Student Loan, and Home Equity Loan       8\n",
              "Home Equity Loan, Payday Loan, Not Specified, and Personal Loan                                         8\n",
              "Home Equity Loan, Auto Loan, Auto Loan, and Auto Loan                                                   8\n",
              "Payday Loan, Student Loan, Mortgage Loan, and Not Specified                                             8\n",
              "Personal Loan, Home Equity Loan, Payday Loan, Payday Loan, and Not Specified                            8\n",
              "Name: count, Length: 6260, dtype: int64"
            ]
          },
          "execution_count": 77,
          "metadata": {},
          "output_type": "execute_result"
        }
      ],
      "source": [
        "train[\"Type_of_Loan\"].value_counts()"
      ]
    },
    {
      "cell_type": "markdown",
      "id": "cfbc774b",
      "metadata": {},
      "source": [
        "## `ii` Visual Analysis\n"
      ]
    },
    {
      "cell_type": "code",
      "execution_count": 78,
      "id": "31bba6be",
      "metadata": {},
      "outputs": [
        {
          "data": {
            "image/png": "[encoded data removed]",
            "text/plain": [
              "<Figure size 2000x1500 with 9 Axes>"
            ]
          },
          "metadata": {},
          "output_type": "display_data"
        }
      ],
      "source": [
        "train.hist(figsize=(20,15))\n",
        "plt.show()"
      ]
    },
    {
      "cell_type": "code",
      "execution_count": 79,
      "id": "ea2062e2",
      "metadata": {},
      "outputs": [
        {
          "data": {
            "image/png": "[encoded data removed]",
            "text/plain": [
              "<Figure size 640x480 with 2 Axes>"
            ]
          },
          "metadata": {},
          "output_type": "display_data"
        }
      ],
      "source": [
        "corr_matrix = train.select_dtypes(include=[np.number]).corr()\n",
        "sns.heatmap(corr_matrix, annot=True, cmap='coolwarm', fmt='.1f')\n",
        "plt.title('Correlation Matrix of All Features')\n",
        "plt.show()"
      ]
    },
    {
      "cell_type": "code",
      "execution_count": 80,
      "id": "d77e0d0a",
      "metadata": {},
      "outputs": [
        {
          "data": {
            "image/png": "[encoded data removed]",
            "text/plain": [
              "<Figure size 1500x500 with 1 Axes>"
            ]
          },
          "metadata": {},
          "output_type": "display_data"
        }
      ],
      "source": [
        "plt.figure(figsize=(15,5))\n",
        "sns.countplot(data=train, x='Occupation', hue='Credit_Score')\n",
        "plt.legend()\n",
        "plt.xticks(rotation=30)\n",
        "plt.show()"
      ]
    },
    {
      "cell_type": "code",
      "execution_count": 81,
      "id": "ff8e824e",
      "metadata": {},
      "outputs": [
        {
          "data": {
            "image/png": "[encoded data removed]",
            "text/plain": [
              "<Figure size 1500x500 with 1 Axes>"
            ]
          },
          "metadata": {},
          "output_type": "display_data"
        }
      ],
      "source": [
        "plt.figure(figsize=(15,5))\n",
        "sns.countplot(train['Payment_Behaviour'])\n",
        "plt.xticks(rotation=45)\n",
        "sns.countplot(train['Payment_of_Min_Amount'])\n",
        "plt.xticks(rotation=45)\n",
        "plt.show()"
      ]
    },
    {
      "cell_type": "code",
      "execution_count": 82,
      "id": "2dbdb9a4",
      "metadata": {},
      "outputs": [
        {
          "data": {
            "image/png": "[encoded data removed]",
            "text/plain": [
              "<Figure size 1500x500 with 1 Axes>"
            ]
          },
          "metadata": {},
          "output_type": "display_data"
        }
      ],
      "source": [
        "plt.figure(figsize=(15,5))\n",
        "sns.countplot(train['Occupation'])\n",
        "plt.show()"
      ]
    },
    {
      "cell_type": "code",
      "execution_count": 83,
      "id": "aea51c0c",
      "metadata": {},
      "outputs": [
        {
          "data": {
            "image/png": "[encoded data removed]",
            "text/plain": [
              "<Figure size 640x480 with 1 Axes>"
            ]
          },
          "metadata": {},
          "output_type": "display_data"
        }
      ],
      "source": [
        "sns.histplot(train['Credit_Score'], bins=30, kde=True)\n",
        "plt.title('Distribution of Credit Scores')\n",
        "plt.xlabel('Credit Score')\n",
        "plt.ylabel('Frequency')\n",
        "plt.show()"
      ]
    },
    {
      "cell_type": "code",
      "execution_count": 84,
      "id": "9d9d4716",
      "metadata": {},
      "outputs": [
        {
          "data": {
            "image/png": "[encoded data removed]",
            "text/plain": [
              "<Figure size 640x480 with 1 Axes>"
            ]
          },
          "metadata": {},
          "output_type": "display_data"
        }
      ],
      "source": [
        "sns.boxplot(x='Credit_Score', y='Monthly_Inhand_Salary', data=train, hue = 'Credit_Score')\n",
        "plt.xlabel('Credit Score')\n",
        "plt.ylabel('Monthly Inhand Salary')\n",
        "plt.show()"
      ]
    },
    {
      "cell_type": "markdown",
      "id": "e610a6a0",
      "metadata": {},
      "source": [
        "----------------\n",
        "\n",
        "# `04` Data Preparation"
      ]
    },
    {
      "cell_type": "code",
      "execution_count": 85,
      "id": "0859e075",
      "metadata": {},
      "outputs": [],
      "source": [
        "train.drop(['ID', 'Customer_ID', 'Name', 'SSN', 'Month', 'Credit_History_Age'], axis=1, inplace=True)"
      ]
    },
    {
      "cell_type": "code",
      "execution_count": 86,
      "id": "e581a296",
      "metadata": {},
      "outputs": [],
      "source": [
        "train[\"Age\"] = train[\"Age\"].str.replace('_', '').astype(float)\n",
        "train.loc[(train[\"Age\"] < 18) | (train[\"Age\"] > 100), \"Age\"] = np.nan"
      ]
    },
    {
      "cell_type": "code",
      "execution_count": 87,
      "id": "54fe8afe",
      "metadata": {},
      "outputs": [],
      "source": [
        "train[\"Occupation\"] = train[\"Occupation\"].replace(\"_______\" ,np.nan).astype(str)\n",
        "train[\"Annual_Income\"] = train[\"Annual_Income\"].astype(str).str.replace(\"_\" , \"\").astype(\"float\")"
      ]
    },
    {
      "cell_type": "code",
      "execution_count": 88,
      "id": "7fc4e6d4",
      "metadata": {},
      "outputs": [],
      "source": [
        "train.loc[train[\"Num_Bank_Accounts\"] > 25, \"Num_Bank_Accounts\"] = np.nan\n",
        "train.loc[train[\"Num_Credit_Card\"] > 25, \"Num_Credit_Card\"] = np.nan\n",
        "train.loc[train[\"Interest_Rate\"] > 25,\"Interest_Rate\"] = np.nan"
      ]
    },
    {
      "cell_type": "code",
      "execution_count": 89,
      "id": "43492173",
      "metadata": {},
      "outputs": [],
      "source": [
        "train[\"Num_of_Loan\"] = pd.to_numeric(train[\"Num_of_Loan\"].replace({\"_\": np.nan, \"-\": np.nan}), errors='coerce').astype(float)\n",
        "train.loc[(train[\"Num_of_Loan\"] > 25) | (train[\"Num_of_Loan\"] < 0), \"Num_of_Loan\"] = np.nan"
      ]
    },
    {
      "cell_type": "code",
      "execution_count": 90,
      "id": "55273aa4",
      "metadata": {},
      "outputs": [],
      "source": [
        "train[\"Num_of_Delayed_Payment\"] = train[\"Num_of_Delayed_Payment\"].astype(str).str.replace(\"_\", \"\").str.replace(\"-\", \"\")\n",
        "train[\"Num_of_Delayed_Payment\"] = pd.to_numeric(train[\"Num_of_Delayed_Payment\"], errors='coerce')\n",
        "train.loc[train[\"Num_of_Delayed_Payment\"] > 50, \"Num_of_Delayed_Payment\"] = np.nan"
      ]
    },
    {
      "cell_type": "code",
      "execution_count": 91,
      "id": "d3a21e9b",
      "metadata": {},
      "outputs": [],
      "source": [
        "train[\"Changed_Credit_Limit\"] = train[\"Changed_Credit_Limit\"].replace(\"_\", np.nan)\n",
        "train['Changed_Credit_Limit'] = train['Changed_Credit_Limit'].astype(float)"
      ]
    },
    {
      "cell_type": "code",
      "execution_count": 92,
      "id": "149b9308",
      "metadata": {},
      "outputs": [],
      "source": [
        "train[\"Credit_Mix\"] = train[\"Credit_Mix\"].replace(\"_\", np.nan).astype(str)\n",
        "train[\"Outstanding_Debt\"] = train[\"Outstanding_Debt\"].str.replace(\"_\" , \"\").astype(\"float\")\n",
        "train['Payment_of_Min_Amount'] = train['Payment_of_Min_Amount'].replace('NM', np.nan)"
      ]
    },
    {
      "cell_type": "code",
      "execution_count": 93,
      "id": "3d91da5c",
      "metadata": {},
      "outputs": [],
      "source": [
        "train['Amount_invested_monthly'] = train['Amount_invested_monthly'].replace('__10000__', np.nan)\n",
        "train['Amount_invested_monthly'] = train['Amount_invested_monthly'].astype(float)"
      ]
    },
    {
      "cell_type": "code",
      "execution_count": 94,
      "id": "03e5c801",
      "metadata": {},
      "outputs": [],
      "source": [
        "train[\"Payment_Behaviour\"] = train[\"Payment_Behaviour\"].replace(\"!@9#%8\", np.nan)"
      ]
    },
    {
      "cell_type": "code",
      "execution_count": 95,
      "id": "06fcdefa",
      "metadata": {},
      "outputs": [],
      "source": [
        "train['Type_of_Loan'] = train['Type_of_Loan'].astype(str).str.replace(' and ', ', ')\n",
        "train['Type_of_Loan'] = train['Type_of_Loan'].str.split(', ')\n",
        "train['Type_of_Loan'] = train['Type_of_Loan'].apply(lambda x: [item.strip().rstrip(',') for item in x] if isinstance(x, list) else [])\n",
        "mlb = MultiLabelBinarizer()\n",
        "one_hot_encoded = pd.DataFrame(mlb.fit_transform(train['Type_of_Loan']), columns=mlb.classes_)\n",
        "train = pd.concat([train, one_hot_encoded], axis=1).drop(columns=['Type_of_Loan','nan'])"
      ]
    },
    {
      "cell_type": "code",
      "execution_count": 96,
      "id": "5b48082b",
      "metadata": {},
      "outputs": [],
      "source": [
        "train[\"Monthly_Balance\"] = train[\"Monthly_Balance\"].astype(str).str.replace(r'[^0-9.-]+', '').str.replace('_', '').str.replace('-', '').astype(float)\n",
        "train[\"Monthly_Balance\"] = train[\"Monthly_Balance\"].round(2)"
      ]
    },
    {
      "cell_type": "markdown",
      "id": "9cf8f72b",
      "metadata": {},
      "source": [
        "- encoding the objects"
      ]
    },
    {
      "cell_type": "code",
      "execution_count": 97,
      "id": "f9e46669",
      "metadata": {},
      "outputs": [
        {
          "data": {
            "application/vnd.microsoft.datawrangler.viewer.v0+json": {
              "columns": [
                {
                  "name": "index",
                  "rawType": "int64",
                  "type": "integer"
                },
                {
                  "name": "Occupation",
                  "rawType": "int64",
                  "type": "integer"
                },
                {
                  "name": "Payment_of_Min_Amount",
                  "rawType": "int64",
                  "type": "integer"
                },
                {
                  "name": "Credit_Mix",
                  "rawType": "int64",
                  "type": "integer"
                },
                {
                  "name": "Payment_Behaviour",
                  "rawType": "int64",
                  "type": "integer"
                }
              ],
              "conversionMethod": "pd.DataFrame",
              "ref": "87543592-4c49-495e-bd50-d67fb4215ddc",
              "rows": [
                [
                  "0",
                  "12",
                  "0",
                  "3",
                  "2"
                ],
                [
                  "1",
                  "12",
                  "0",
                  "1",
                  "3"
                ],
                [
                  "2",
                  "12",
                  "0",
                  "1",
                  "4"
                ],
                [
                  "3",
                  "12",
                  "0",
                  "1",
                  "5"
                ],
                [
                  "4",
                  "12",
                  "0",
                  "1",
                  "1"
                ]
              ],
              "shape": {
                "columns": 4,
                "rows": 5
              }
            },
            "text/html": [
              "<div>\n",
              "<style scoped>\n",
              "    .dataframe tbody tr th:only-of-type {\n",
              "        vertical-align: middle;\n",
              "    }\n",
              "\n",
              "    .dataframe tbody tr th {\n",
              "        vertical-align: top;\n",
              "    }\n",
              "\n",
              "    .dataframe thead th {\n",
              "        text-align: right;\n",
              "    }\n",
              "</style>\n",
              "<table border=\"1\" class=\"dataframe\">\n",
              "  <thead>\n",
              "    <tr style=\"text-align: right;\">\n",
              "      <th></th>\n",
              "      <th>Occupation</th>\n",
              "      <th>Payment_of_Min_Amount</th>\n",
              "      <th>Credit_Mix</th>\n",
              "      <th>Payment_Behaviour</th>\n",
              "    </tr>\n",
              "  </thead>\n",
              "  <tbody>\n",
              "    <tr>\n",
              "      <th>0</th>\n",
              "      <td>12</td>\n",
              "      <td>0</td>\n",
              "      <td>3</td>\n",
              "      <td>2</td>\n",
              "    </tr>\n",
              "    <tr>\n",
              "      <th>1</th>\n",
              "      <td>12</td>\n",
              "      <td>0</td>\n",
              "      <td>1</td>\n",
              "      <td>3</td>\n",
              "    </tr>\n",
              "    <tr>\n",
              "      <th>2</th>\n",
              "      <td>12</td>\n",
              "      <td>0</td>\n",
              "      <td>1</td>\n",
              "      <td>4</td>\n",
              "    </tr>\n",
              "    <tr>\n",
              "      <th>3</th>\n",
              "      <td>12</td>\n",
              "      <td>0</td>\n",
              "      <td>1</td>\n",
              "      <td>5</td>\n",
              "    </tr>\n",
              "    <tr>\n",
              "      <th>4</th>\n",
              "      <td>12</td>\n",
              "      <td>0</td>\n",
              "      <td>1</td>\n",
              "      <td>1</td>\n",
              "    </tr>\n",
              "  </tbody>\n",
              "</table>\n",
              "</div>"
            ],
            "text/plain": [
              "   Occupation  Payment_of_Min_Amount  Credit_Mix  Payment_Behaviour\n",
              "0          12                      0           3                  2\n",
              "1          12                      0           1                  3\n",
              "2          12                      0           1                  4\n",
              "3          12                      0           1                  5\n",
              "4          12                      0           1                  1"
            ]
          },
          "execution_count": 97,
          "metadata": {},
          "output_type": "execute_result"
        }
      ],
      "source": [
        "columns = [\"Occupation\", \"Payment_of_Min_Amount\", \"Credit_Mix\", \"Payment_Behaviour\"]\n",
        "for i in columns:\n",
        "    train[i] = LabelEncoder().fit_transform(train[i])\n",
        "train[[\"Occupation\", \"Payment_of_Min_Amount\", \"Credit_Mix\", \"Payment_Behaviour\"]].head()"
      ]
    },
    {
      "cell_type": "markdown",
      "id": "410d15e9",
      "metadata": {},
      "source": [
        "- split data to train and test"
      ]
    },
    {
      "cell_type": "code",
      "execution_count": 98,
      "id": "d60565cd",
      "metadata": {},
      "outputs": [],
      "source": [
        "x = train.drop('Credit_Score', axis=1)\n",
        "y = train['Credit_Score']\n",
        "\n",
        "x_train, x_test, y_train, y_test = train_test_split(x, y, test_size=0.2, random_state=1234)"
      ]
    },
    {
      "cell_type": "code",
      "execution_count": 99,
      "id": "de48c1ad",
      "metadata": {},
      "outputs": [
        {
          "name": "stdout",
          "output_type": "stream",
          "text": [
            "(80000, 29)\n",
            "(20000, 29)\n",
            "(80000,)\n",
            "(20000,)\n"
          ]
        }
      ],
      "source": [
        "print(x_train.shape)\n",
        "print(x_test.shape)\n",
        "print(y_train.shape)\n",
        "print(y_test.shape)"
      ]
    },
    {
      "cell_type": "markdown",
      "id": "4b0a7ff5",
      "metadata": {},
      "source": [
        "## fill the missing values"
      ]
    },
    {
      "cell_type": "code",
      "execution_count": 100,
      "id": "a011e91b",
      "metadata": {},
      "outputs": [],
      "source": [
        "knn_imputer = KNNImputer(n_neighbors=5)\n",
        "simple_imputer = SimpleImputer(strategy='mean')\n"
      ]
    },
    {
      "cell_type": "code",
      "execution_count": 101,
      "id": "6c8c987d",
      "metadata": {},
      "outputs": [
        {
          "data": {
            "application/vnd.microsoft.datawrangler.viewer.v0+json": {
              "columns": [
                {
                  "name": "index",
                  "rawType": "int64",
                  "type": "integer"
                },
                {
                  "name": "Age",
                  "rawType": "float64",
                  "type": "float"
                },
                {
                  "name": "Occupation",
                  "rawType": "float64",
                  "type": "float"
                },
                {
                  "name": "Annual_Income",
                  "rawType": "float64",
                  "type": "float"
                },
                {
                  "name": "Monthly_Inhand_Salary",
                  "rawType": "float64",
                  "type": "float"
                },
                {
                  "name": "Num_Bank_Accounts",
                  "rawType": "float64",
                  "type": "float"
                },
                {
                  "name": "Num_Credit_Card",
                  "rawType": "float64",
                  "type": "float"
                },
                {
                  "name": "Interest_Rate",
                  "rawType": "float64",
                  "type": "float"
                },
                {
                  "name": "Num_of_Loan",
                  "rawType": "float64",
                  "type": "float"
                },
                {
                  "name": "Delay_from_due_date",
                  "rawType": "float64",
                  "type": "float"
                },
                {
                  "name": "Num_of_Delayed_Payment",
                  "rawType": "float64",
                  "type": "float"
                },
                {
                  "name": "Changed_Credit_Limit",
                  "rawType": "float64",
                  "type": "float"
                },
                {
                  "name": "Num_Credit_Inquiries",
                  "rawType": "float64",
                  "type": "float"
                },
                {
                  "name": "Credit_Mix",
                  "rawType": "float64",
                  "type": "float"
                },
                {
                  "name": "Outstanding_Debt",
                  "rawType": "float64",
                  "type": "float"
                },
                {
                  "name": "Credit_Utilization_Ratio",
                  "rawType": "float64",
                  "type": "float"
                },
                {
                  "name": "Payment_of_Min_Amount",
                  "rawType": "float64",
                  "type": "float"
                },
                {
                  "name": "Total_EMI_per_month",
                  "rawType": "float64",
                  "type": "float"
                },
                {
                  "name": "Amount_invested_monthly",
                  "rawType": "float64",
                  "type": "float"
                },
                {
                  "name": "Payment_Behaviour",
                  "rawType": "float64",
                  "type": "float"
                },
                {
                  "name": "Monthly_Balance",
                  "rawType": "float64",
                  "type": "float"
                },
                {
                  "name": "Auto Loan",
                  "rawType": "float64",
                  "type": "float"
                },
                {
                  "name": "Credit-Builder Loan",
                  "rawType": "float64",
                  "type": "float"
                },
                {
                  "name": "Debt Consolidation Loan",
                  "rawType": "float64",
                  "type": "float"
                },
                {
                  "name": "Home Equity Loan",
                  "rawType": "float64",
                  "type": "float"
                },
                {
                  "name": "Mortgage Loan",
                  "rawType": "float64",
                  "type": "float"
                },
                {
                  "name": "Not Specified",
                  "rawType": "float64",
                  "type": "float"
                },
                {
                  "name": "Payday Loan",
                  "rawType": "float64",
                  "type": "float"
                },
                {
                  "name": "Personal Loan",
                  "rawType": "float64",
                  "type": "float"
                },
                {
                  "name": "Student Loan",
                  "rawType": "float64",
                  "type": "float"
                }
              ],
              "conversionMethod": "pd.DataFrame",
              "ref": "40d7e2d3-7f47-48b1-b3ab-d7243c9ab4d9",
              "rows": [
                [
                  "0",
                  "41.0",
                  "11.0",
                  "70154.85",
                  "5696.2375",
                  "8.0",
                  "5.0",
                  "18.0",
                  "1.2",
                  "27.0",
                  "8.0",
                  "19.23",
                  "0.0",
                  "2.0",
                  "487.42",
                  "39.22462704717473",
                  "1.0",
                  "92.88826993942456",
                  "87.63253757974445",
                  "0.0",
                  "629.1",
                  "1.0",
                  "0.0",
                  "0.0",
                  "0.0",
                  "0.0",
                  "0.0",
                  "0.0",
                  "1.0",
                  "0.0"
                ],
                [
                  "1",
                  "54.0",
                  "0.0",
                  "29508.41",
                  "2364.3255",
                  "7.0",
                  "4.0",
                  "9.0",
                  "1.0",
                  "18.0",
                  "15.4",
                  "10.75",
                  "4.0",
                  "2.0",
                  "333.86",
                  "27.221134629992555",
                  "0.0",
                  "16.547212199490982",
                  "32.35159606871025",
                  "0.0",
                  "448.7",
                  "0.0",
                  "0.0",
                  "0.0",
                  "0.0",
                  "0.0",
                  "0.0",
                  "1.0",
                  "0.0",
                  "0.0"
                ],
                [
                  "2",
                  "19.0",
                  "14.0",
                  "31346.22",
                  "2453.8379999999997",
                  "8.0",
                  "5.0",
                  "19.0",
                  "9.0",
                  "44.0",
                  "17.0",
                  "3.76",
                  "12.0",
                  "3.0",
                  "1795.98",
                  "33.20448893011347",
                  "1.0",
                  "187.42513603543927",
                  "82.92423393046731",
                  "2.0",
                  "238.97",
                  "1.0",
                  "0.0",
                  "1.0",
                  "1.0",
                  "0.0",
                  "1.0",
                  "0.0",
                  "1.0",
                  "1.0"
                ],
                [
                  "3",
                  "32.0",
                  "6.0",
                  "64901.37",
                  "5298.4475",
                  "3.0",
                  "5.0",
                  "20.0",
                  "0.0",
                  "15.0",
                  "17.6",
                  "2.94",
                  "3.0",
                  "2.0",
                  "442.06",
                  "33.682697019679125",
                  "1.0",
                  "8323.0",
                  "97.85991319033951",
                  "2.0",
                  "691.98",
                  "0.0",
                  "0.0",
                  "0.0",
                  "0.0",
                  "0.0",
                  "0.0",
                  "0.0",
                  "0.0",
                  "0.0"
                ],
                [
                  "4",
                  "32.0",
                  "12.0",
                  "7200.035",
                  "540.0029166666667",
                  "8.0",
                  "8.0",
                  "18.0",
                  "3.0",
                  "60.0",
                  "17.0",
                  "8.51",
                  "11.0",
                  "2.0",
                  "2442.56",
                  "31.286251509563712",
                  "1.0",
                  "13.72301936190351",
                  "36.71193131229539",
                  "3.0",
                  "294.98",
                  "0.0",
                  "0.0",
                  "0.0",
                  "1.0",
                  "0.0",
                  "0.0",
                  "1.0",
                  "0.0",
                  "1.0"
                ]
              ],
              "shape": {
                "columns": 29,
                "rows": 5
              }
            },
            "text/html": [
              "<div>\n",
              "<style scoped>\n",
              "    .dataframe tbody tr th:only-of-type {\n",
              "        vertical-align: middle;\n",
              "    }\n",
              "\n",
              "    .dataframe tbody tr th {\n",
              "        vertical-align: top;\n",
              "    }\n",
              "\n",
              "    .dataframe thead th {\n",
              "        text-align: right;\n",
              "    }\n",
              "</style>\n",
              "<table border=\"1\" class=\"dataframe\">\n",
              "  <thead>\n",
              "    <tr style=\"text-align: right;\">\n",
              "      <th></th>\n",
              "      <th>Age</th>\n",
              "      <th>Occupation</th>\n",
              "      <th>Annual_Income</th>\n",
              "      <th>Monthly_Inhand_Salary</th>\n",
              "      <th>Num_Bank_Accounts</th>\n",
              "      <th>Num_Credit_Card</th>\n",
              "      <th>Interest_Rate</th>\n",
              "      <th>Num_of_Loan</th>\n",
              "      <th>Delay_from_due_date</th>\n",
              "      <th>Num_of_Delayed_Payment</th>\n",
              "      <th>...</th>\n",
              "      <th>Monthly_Balance</th>\n",
              "      <th>Auto Loan</th>\n",
              "      <th>Credit-Builder Loan</th>\n",
              "      <th>Debt Consolidation Loan</th>\n",
              "      <th>Home Equity Loan</th>\n",
              "      <th>Mortgage Loan</th>\n",
              "      <th>Not Specified</th>\n",
              "      <th>Payday Loan</th>\n",
              "      <th>Personal Loan</th>\n",
              "      <th>Student Loan</th>\n",
              "    </tr>\n",
              "  </thead>\n",
              "  <tbody>\n",
              "    <tr>\n",
              "      <th>0</th>\n",
              "      <td>41.0</td>\n",
              "      <td>11.0</td>\n",
              "      <td>70154.850</td>\n",
              "      <td>5696.237500</td>\n",
              "      <td>8.0</td>\n",
              "      <td>5.0</td>\n",
              "      <td>18.0</td>\n",
              "      <td>1.2</td>\n",
              "      <td>27.0</td>\n",
              "      <td>8.0</td>\n",
              "      <td>...</td>\n",
              "      <td>629.10</td>\n",
              "      <td>1.0</td>\n",
              "      <td>0.0</td>\n",
              "      <td>0.0</td>\n",
              "      <td>0.0</td>\n",
              "      <td>0.0</td>\n",
              "      <td>0.0</td>\n",
              "      <td>0.0</td>\n",
              "      <td>1.0</td>\n",
              "      <td>0.0</td>\n",
              "    </tr>\n",
              "    <tr>\n",
              "      <th>1</th>\n",
              "      <td>54.0</td>\n",
              "      <td>0.0</td>\n",
              "      <td>29508.410</td>\n",
              "      <td>2364.325500</td>\n",
              "      <td>7.0</td>\n",
              "      <td>4.0</td>\n",
              "      <td>9.0</td>\n",
              "      <td>1.0</td>\n",
              "      <td>18.0</td>\n",
              "      <td>15.4</td>\n",
              "      <td>...</td>\n",
              "      <td>448.70</td>\n",
              "      <td>0.0</td>\n",
              "      <td>0.0</td>\n",
              "      <td>0.0</td>\n",
              "      <td>0.0</td>\n",
              "      <td>0.0</td>\n",
              "      <td>0.0</td>\n",
              "      <td>1.0</td>\n",
              "      <td>0.0</td>\n",
              "      <td>0.0</td>\n",
              "    </tr>\n",
              "    <tr>\n",
              "      <th>2</th>\n",
              "      <td>19.0</td>\n",
              "      <td>14.0</td>\n",
              "      <td>31346.220</td>\n",
              "      <td>2453.838000</td>\n",
              "      <td>8.0</td>\n",
              "      <td>5.0</td>\n",
              "      <td>19.0</td>\n",
              "      <td>9.0</td>\n",
              "      <td>44.0</td>\n",
              "      <td>17.0</td>\n",
              "      <td>...</td>\n",
              "      <td>238.97</td>\n",
              "      <td>1.0</td>\n",
              "      <td>0.0</td>\n",
              "      <td>1.0</td>\n",
              "      <td>1.0</td>\n",
              "      <td>0.0</td>\n",
              "      <td>1.0</td>\n",
              "      <td>0.0</td>\n",
              "      <td>1.0</td>\n",
              "      <td>1.0</td>\n",
              "    </tr>\n",
              "    <tr>\n",
              "      <th>3</th>\n",
              "      <td>32.0</td>\n",
              "      <td>6.0</td>\n",
              "      <td>64901.370</td>\n",
              "      <td>5298.447500</td>\n",
              "      <td>3.0</td>\n",
              "      <td>5.0</td>\n",
              "      <td>20.0</td>\n",
              "      <td>0.0</td>\n",
              "      <td>15.0</td>\n",
              "      <td>17.6</td>\n",
              "      <td>...</td>\n",
              "      <td>691.98</td>\n",
              "      <td>0.0</td>\n",
              "      <td>0.0</td>\n",
              "      <td>0.0</td>\n",
              "      <td>0.0</td>\n",
              "      <td>0.0</td>\n",
              "      <td>0.0</td>\n",
              "      <td>0.0</td>\n",
              "      <td>0.0</td>\n",
              "      <td>0.0</td>\n",
              "    </tr>\n",
              "    <tr>\n",
              "      <th>4</th>\n",
              "      <td>32.0</td>\n",
              "      <td>12.0</td>\n",
              "      <td>7200.035</td>\n",
              "      <td>540.002917</td>\n",
              "      <td>8.0</td>\n",
              "      <td>8.0</td>\n",
              "      <td>18.0</td>\n",
              "      <td>3.0</td>\n",
              "      <td>60.0</td>\n",
              "      <td>17.0</td>\n",
              "      <td>...</td>\n",
              "      <td>294.98</td>\n",
              "      <td>0.0</td>\n",
              "      <td>0.0</td>\n",
              "      <td>0.0</td>\n",
              "      <td>1.0</td>\n",
              "      <td>0.0</td>\n",
              "      <td>0.0</td>\n",
              "      <td>1.0</td>\n",
              "      <td>0.0</td>\n",
              "      <td>1.0</td>\n",
              "    </tr>\n",
              "  </tbody>\n",
              "</table>\n",
              "<p>5 rows × 29 columns</p>\n",
              "</div>"
            ],
            "text/plain": [
              "    Age  Occupation  Annual_Income  Monthly_Inhand_Salary  Num_Bank_Accounts  \\\n",
              "0  41.0        11.0      70154.850            5696.237500                8.0   \n",
              "1  54.0         0.0      29508.410            2364.325500                7.0   \n",
              "2  19.0        14.0      31346.220            2453.838000                8.0   \n",
              "3  32.0         6.0      64901.370            5298.447500                3.0   \n",
              "4  32.0        12.0       7200.035             540.002917                8.0   \n",
              "\n",
              "   Num_Credit_Card  Interest_Rate  Num_of_Loan  Delay_from_due_date  \\\n",
              "0              5.0           18.0          1.2                 27.0   \n",
              "1              4.0            9.0          1.0                 18.0   \n",
              "2              5.0           19.0          9.0                 44.0   \n",
              "3              5.0           20.0          0.0                 15.0   \n",
              "4              8.0           18.0          3.0                 60.0   \n",
              "\n",
              "   Num_of_Delayed_Payment  ...  Monthly_Balance  Auto Loan  \\\n",
              "0                     8.0  ...           629.10        1.0   \n",
              "1                    15.4  ...           448.70        0.0   \n",
              "2                    17.0  ...           238.97        1.0   \n",
              "3                    17.6  ...           691.98        0.0   \n",
              "4                    17.0  ...           294.98        0.0   \n",
              "\n",
              "   Credit-Builder Loan  Debt Consolidation Loan  Home Equity Loan  \\\n",
              "0                  0.0                      0.0               0.0   \n",
              "1                  0.0                      0.0               0.0   \n",
              "2                  0.0                      1.0               1.0   \n",
              "3                  0.0                      0.0               0.0   \n",
              "4                  0.0                      0.0               1.0   \n",
              "\n",
              "   Mortgage Loan  Not Specified  Payday Loan  Personal Loan  Student Loan  \n",
              "0            0.0            0.0          0.0            1.0           0.0  \n",
              "1            0.0            0.0          1.0            0.0           0.0  \n",
              "2            0.0            1.0          0.0            1.0           1.0  \n",
              "3            0.0            0.0          0.0            0.0           0.0  \n",
              "4            0.0            0.0          1.0            0.0           1.0  \n",
              "\n",
              "[5 rows x 29 columns]"
            ]
          },
          "execution_count": 101,
          "metadata": {},
          "output_type": "execute_result"
        }
      ],
      "source": [
        "KnnImputer = KNNImputer(n_neighbors=5)\n",
        "x_train = pd.DataFrame(KnnImputer.fit_transform(x_train), columns=x_train.columns)\n",
        "\n",
        "x_train.head()"
      ]
    },
    {
      "cell_type": "code",
      "execution_count": 102,
      "id": "7a6a898c",
      "metadata": {},
      "outputs": [
        {
          "data": {
            "application/vnd.microsoft.datawrangler.viewer.v0+json": {
              "columns": [
                {
                  "name": "index",
                  "rawType": "int64",
                  "type": "integer"
                },
                {
                  "name": "Credit_Score",
                  "rawType": "float64",
                  "type": "float"
                }
              ],
              "conversionMethod": "pd.DataFrame",
              "ref": "721a308e-e47d-4924-a965-286e5bdddc98",
              "rows": [
                [
                  "0",
                  "2.0"
                ],
                [
                  "1",
                  "2.0"
                ],
                [
                  "2",
                  "2.0"
                ],
                [
                  "3",
                  "2.0"
                ],
                [
                  "4",
                  "1.0"
                ]
              ],
              "shape": {
                "columns": 1,
                "rows": 5
              }
            },
            "text/html": [
              "<div>\n",
              "<style scoped>\n",
              "    .dataframe tbody tr th:only-of-type {\n",
              "        vertical-align: middle;\n",
              "    }\n",
              "\n",
              "    .dataframe tbody tr th {\n",
              "        vertical-align: top;\n",
              "    }\n",
              "\n",
              "    .dataframe thead th {\n",
              "        text-align: right;\n",
              "    }\n",
              "</style>\n",
              "<table border=\"1\" class=\"dataframe\">\n",
              "  <thead>\n",
              "    <tr style=\"text-align: right;\">\n",
              "      <th></th>\n",
              "      <th>Credit_Score</th>\n",
              "    </tr>\n",
              "  </thead>\n",
              "  <tbody>\n",
              "    <tr>\n",
              "      <th>0</th>\n",
              "      <td>2.0</td>\n",
              "    </tr>\n",
              "    <tr>\n",
              "      <th>1</th>\n",
              "      <td>2.0</td>\n",
              "    </tr>\n",
              "    <tr>\n",
              "      <th>2</th>\n",
              "      <td>2.0</td>\n",
              "    </tr>\n",
              "    <tr>\n",
              "      <th>3</th>\n",
              "      <td>2.0</td>\n",
              "    </tr>\n",
              "    <tr>\n",
              "      <th>4</th>\n",
              "      <td>1.0</td>\n",
              "    </tr>\n",
              "  </tbody>\n",
              "</table>\n",
              "</div>"
            ],
            "text/plain": [
              "   Credit_Score\n",
              "0           2.0\n",
              "1           2.0\n",
              "2           2.0\n",
              "3           2.0\n",
              "4           1.0"
            ]
          },
          "execution_count": 102,
          "metadata": {},
          "output_type": "execute_result"
        }
      ],
      "source": [
        "y_train = pd.DataFrame(y_train)\n",
        "y_scaler = OrdinalEncoder()\n",
        "y_train = pd.DataFrame(y_scaler.fit_transform(y_train), columns=[\"Credit_Score\"])\n",
        "y_train.head()"
      ]
    },
    {
      "cell_type": "code",
      "execution_count": 103,
      "id": "45d95159",
      "metadata": {},
      "outputs": [],
      "source": [
        "x_train, x_valid, y_train, y_valid = train_test_split(x_train, y_train, test_size=0.2, random_state=1234)"
      ]
    },
    {
      "cell_type": "code",
      "execution_count": 104,
      "id": "ca6a07b0",
      "metadata": {},
      "outputs": [
        {
          "name": "stdout",
          "output_type": "stream",
          "text": [
            "(64000, 29)\n",
            "(16000, 29)\n",
            "(64000, 1)\n",
            "(16000, 1)\n"
          ]
        }
      ],
      "source": [
        "print(x_train.shape)\n",
        "print(x_valid.shape)\n",
        "print(y_train.shape)\n",
        "print(y_valid.shape)"
      ]
    },
    {
      "cell_type": "code",
      "execution_count": 105,
      "id": "ae5548de",
      "metadata": {},
      "outputs": [],
      "source": [
        "scaler = StandardScaler()\n",
        "x_train = scaler.fit_transform(x_train)\n",
        "x_valid = scaler.transform(x_valid)\n",
        "x_test = scaler.transform(x_test)"
      ]
    },
    {
      "cell_type": "markdown",
      "id": "839a9928",
      "metadata": {},
      "source": [
        "`#` Prepare Test Set\n"
      ]
    },
    {
      "cell_type": "code",
      "execution_count": 106,
      "id": "fc5a5eac",
      "metadata": {},
      "outputs": [
        {
          "data": {
            "application/vnd.microsoft.datawrangler.viewer.v0+json": {
              "columns": [
                {
                  "name": "index",
                  "rawType": "int64",
                  "type": "integer"
                },
                {
                  "name": "0",
                  "rawType": "float64",
                  "type": "float"
                },
                {
                  "name": "1",
                  "rawType": "float64",
                  "type": "float"
                },
                {
                  "name": "2",
                  "rawType": "float64",
                  "type": "float"
                },
                {
                  "name": "3",
                  "rawType": "float64",
                  "type": "float"
                },
                {
                  "name": "4",
                  "rawType": "float64",
                  "type": "float"
                },
                {
                  "name": "5",
                  "rawType": "float64",
                  "type": "float"
                },
                {
                  "name": "6",
                  "rawType": "float64",
                  "type": "float"
                },
                {
                  "name": "7",
                  "rawType": "float64",
                  "type": "float"
                },
                {
                  "name": "8",
                  "rawType": "float64",
                  "type": "float"
                },
                {
                  "name": "9",
                  "rawType": "float64",
                  "type": "float"
                },
                {
                  "name": "10",
                  "rawType": "float64",
                  "type": "float"
                },
                {
                  "name": "11",
                  "rawType": "float64",
                  "type": "float"
                },
                {
                  "name": "12",
                  "rawType": "float64",
                  "type": "float"
                },
                {
                  "name": "13",
                  "rawType": "float64",
                  "type": "float"
                },
                {
                  "name": "14",
                  "rawType": "float64",
                  "type": "float"
                },
                {
                  "name": "15",
                  "rawType": "float64",
                  "type": "float"
                },
                {
                  "name": "16",
                  "rawType": "float64",
                  "type": "float"
                },
                {
                  "name": "17",
                  "rawType": "float64",
                  "type": "float"
                },
                {
                  "name": "18",
                  "rawType": "float64",
                  "type": "float"
                },
                {
                  "name": "19",
                  "rawType": "float64",
                  "type": "float"
                },
                {
                  "name": "20",
                  "rawType": "float64",
                  "type": "float"
                },
                {
                  "name": "21",
                  "rawType": "float64",
                  "type": "float"
                },
                {
                  "name": "22",
                  "rawType": "float64",
                  "type": "float"
                },
                {
                  "name": "23",
                  "rawType": "float64",
                  "type": "float"
                },
                {
                  "name": "24",
                  "rawType": "float64",
                  "type": "float"
                },
                {
                  "name": "25",
                  "rawType": "float64",
                  "type": "float"
                },
                {
                  "name": "26",
                  "rawType": "float64",
                  "type": "float"
                },
                {
                  "name": "27",
                  "rawType": "float64",
                  "type": "float"
                },
                {
                  "name": "28",
                  "rawType": "float64",
                  "type": "float"
                }
              ],
              "conversionMethod": "pd.DataFrame",
              "ref": "31e72c80-4722-4049-96b9-46b0d852bcea",
              "rows": [
                [
                  "0",
                  "-0.5347190403133842",
                  "0.31617143818842763",
                  "-0.08220262988526049",
                  "0.30741143807474614",
                  "1.7859051630973206",
                  "1.1842595474004736",
                  "1.0123894494057064",
                  "1.4271224552601396",
                  "1.7433089135900182",
                  "1.5641425788601133",
                  "-0.29260095462149954",
                  "-0.08234691937142803",
                  "-1.5555834428561055",
                  "0.821137493048453",
                  "0.5975009715199515",
                  "0.3602454478636012",
                  "-0.14006157140457726",
                  "1.6140906131899722",
                  "1.0117327749904286",
                  "-0.10962531783274532",
                  "-0.6637265982382862",
                  "-0.6836310632699811",
                  "1.4884334327074509",
                  "-0.6734889815721381",
                  "-0.6759901538455715",
                  "1.4707648726197873",
                  "1.457319379383245",
                  "1.4882706458322337",
                  "1.495134755096705"
                ],
                [
                  "1",
                  "1.0838158548655419",
                  "-0.1139343517015613",
                  "-0.11702753524445528",
                  "-0.6366323613670859",
                  "-0.530007459528289",
                  "-0.7446590085087601",
                  "-0.28048312583839113",
                  "1.4271224552601396",
                  "-0.006213749361806145",
                  "1.0783858996981182",
                  "0.6840297164699597",
                  "-0.10841978820556246",
                  "0.4163957264738228",
                  "-0.23432781851476614",
                  "-0.39109956477613494",
                  "0.3602454478636012",
                  "-0.16279702457638712",
                  "-0.515470682101509",
                  "1.0117327749904286",
                  "-0.10962531783274532",
                  "-0.6637265982382862",
                  "1.4627772986451872",
                  "1.4884334327074509",
                  "1.4848052861468963",
                  "1.4793114874694575",
                  "-0.679918332709945",
                  "1.457319379383245",
                  "1.4882706458322337",
                  "-0.6688360340706012"
                ],
                [
                  "2",
                  "-1.2428280569541645",
                  "-0.9741459314815392",
                  "-0.11341654424927446",
                  "-0.97653441290466",
                  "1.7859051630973206",
                  "2.1487188253550906",
                  "0.7045626457761593",
                  "0.6034155227239558",
                  "0.1956542502095582",
                  "0.9164670066441198",
                  "-0.40991483553626784",
                  "-0.08234691937142803",
                  "-1.5555834428561055",
                  "2.361093731657747",
                  "0.9832754550486985",
                  "0.3602454478636012",
                  "-0.1625777439487055",
                  "-0.3726538845880833",
                  "1.519125304077036",
                  "-0.10962531783274532",
                  "1.5066444566999069",
                  "1.4627772986451872",
                  "1.4884334327074509",
                  "-0.6734889815721381",
                  "-0.6759901538455715",
                  "1.4707648726197873",
                  "-0.6861913827175015",
                  "-0.6719207980083521",
                  "-0.6688360340706012"
                ],
                [
                  "3",
                  "-1.0405111950567987",
                  "0.10111854324343315",
                  "-0.049776346908690296",
                  "1.5184755029923946",
                  "-1.3019783337368254",
                  "-0.35887529732691337",
                  "-1.511790340356579",
                  "-0.13792071655860935",
                  "-0.6118177480758992",
                  "-1.6742352822198538",
                  "-0.05324517744023428",
                  "-0.12927808327287",
                  "-0.5695938581911414",
                  "-0.8661298250517598",
                  "0.24216593524994057",
                  "-1.1786484690547328",
                  "-0.1494151777674658",
                  "-0.10942877954851647",
                  "-1.0178373413560016",
                  "-0.10962531783274532",
                  "-0.6637265982382862",
                  "-0.6836310632699811",
                  "-0.671847311425279",
                  "-0.6734889815721381",
                  "1.4793114874694575",
                  "1.4707648726197873",
                  "1.457319379383245",
                  "-0.6719207980083521",
                  "-0.6688360340706012"
                ],
                [
                  "4",
                  "0.37570683822476175",
                  "-0.9741459314815392",
                  "-0.09048313161177537",
                  "-0.12555236960873967",
                  "1.3999197259930523",
                  "2.1487188253550906",
                  "1.1047374904945704",
                  "0.6034155227239558",
                  "1.2722835812568347",
                  "1.2403047927521167",
                  "1.722715589052858",
                  "-0.10841978820556246",
                  "1.402385311138787",
                  "2.8120060796016184",
                  "-0.014724705057823136",
                  "0.3602454478636012",
                  "4.964925269406988",
                  "-0.4100811259536178",
                  "-0.5104448122693941",
                  "-0.10962531783274532",
                  "-0.6637265982382862",
                  "1.4627772986451872",
                  "-0.671847311425279",
                  "1.4848052861468963",
                  "1.4793114874694575",
                  "-0.679918332709945",
                  "-0.6861913827175015",
                  "1.4882706458322337",
                  "1.495134755096705"
                ]
              ],
              "shape": {
                "columns": 29,
                "rows": 5
              }
            },
            "text/html": [
              "<div>\n",
              "<style scoped>\n",
              "    .dataframe tbody tr th:only-of-type {\n",
              "        vertical-align: middle;\n",
              "    }\n",
              "\n",
              "    .dataframe tbody tr th {\n",
              "        vertical-align: top;\n",
              "    }\n",
              "\n",
              "    .dataframe thead th {\n",
              "        text-align: right;\n",
              "    }\n",
              "</style>\n",
              "<table border=\"1\" class=\"dataframe\">\n",
              "  <thead>\n",
              "    <tr style=\"text-align: right;\">\n",
              "      <th></th>\n",
              "      <th>0</th>\n",
              "      <th>1</th>\n",
              "      <th>2</th>\n",
              "      <th>3</th>\n",
              "      <th>4</th>\n",
              "      <th>5</th>\n",
              "      <th>6</th>\n",
              "      <th>7</th>\n",
              "      <th>8</th>\n",
              "      <th>9</th>\n",
              "      <th>...</th>\n",
              "      <th>19</th>\n",
              "      <th>20</th>\n",
              "      <th>21</th>\n",
              "      <th>22</th>\n",
              "      <th>23</th>\n",
              "      <th>24</th>\n",
              "      <th>25</th>\n",
              "      <th>26</th>\n",
              "      <th>27</th>\n",
              "      <th>28</th>\n",
              "    </tr>\n",
              "  </thead>\n",
              "  <tbody>\n",
              "    <tr>\n",
              "      <th>0</th>\n",
              "      <td>-0.534719</td>\n",
              "      <td>0.316171</td>\n",
              "      <td>-0.082203</td>\n",
              "      <td>0.307411</td>\n",
              "      <td>1.785905</td>\n",
              "      <td>1.184260</td>\n",
              "      <td>1.012389</td>\n",
              "      <td>1.427122</td>\n",
              "      <td>1.743309</td>\n",
              "      <td>1.564143</td>\n",
              "      <td>...</td>\n",
              "      <td>-0.109625</td>\n",
              "      <td>-0.663727</td>\n",
              "      <td>-0.683631</td>\n",
              "      <td>1.488433</td>\n",
              "      <td>-0.673489</td>\n",
              "      <td>-0.675990</td>\n",
              "      <td>1.470765</td>\n",
              "      <td>1.457319</td>\n",
              "      <td>1.488271</td>\n",
              "      <td>1.495135</td>\n",
              "    </tr>\n",
              "    <tr>\n",
              "      <th>1</th>\n",
              "      <td>1.083816</td>\n",
              "      <td>-0.113934</td>\n",
              "      <td>-0.117028</td>\n",
              "      <td>-0.636632</td>\n",
              "      <td>-0.530007</td>\n",
              "      <td>-0.744659</td>\n",
              "      <td>-0.280483</td>\n",
              "      <td>1.427122</td>\n",
              "      <td>-0.006214</td>\n",
              "      <td>1.078386</td>\n",
              "      <td>...</td>\n",
              "      <td>-0.109625</td>\n",
              "      <td>-0.663727</td>\n",
              "      <td>1.462777</td>\n",
              "      <td>1.488433</td>\n",
              "      <td>1.484805</td>\n",
              "      <td>1.479311</td>\n",
              "      <td>-0.679918</td>\n",
              "      <td>1.457319</td>\n",
              "      <td>1.488271</td>\n",
              "      <td>-0.668836</td>\n",
              "    </tr>\n",
              "    <tr>\n",
              "      <th>2</th>\n",
              "      <td>-1.242828</td>\n",
              "      <td>-0.974146</td>\n",
              "      <td>-0.113417</td>\n",
              "      <td>-0.976534</td>\n",
              "      <td>1.785905</td>\n",
              "      <td>2.148719</td>\n",
              "      <td>0.704563</td>\n",
              "      <td>0.603416</td>\n",
              "      <td>0.195654</td>\n",
              "      <td>0.916467</td>\n",
              "      <td>...</td>\n",
              "      <td>-0.109625</td>\n",
              "      <td>1.506644</td>\n",
              "      <td>1.462777</td>\n",
              "      <td>1.488433</td>\n",
              "      <td>-0.673489</td>\n",
              "      <td>-0.675990</td>\n",
              "      <td>1.470765</td>\n",
              "      <td>-0.686191</td>\n",
              "      <td>-0.671921</td>\n",
              "      <td>-0.668836</td>\n",
              "    </tr>\n",
              "    <tr>\n",
              "      <th>3</th>\n",
              "      <td>-1.040511</td>\n",
              "      <td>0.101119</td>\n",
              "      <td>-0.049776</td>\n",
              "      <td>1.518476</td>\n",
              "      <td>-1.301978</td>\n",
              "      <td>-0.358875</td>\n",
              "      <td>-1.511790</td>\n",
              "      <td>-0.137921</td>\n",
              "      <td>-0.611818</td>\n",
              "      <td>-1.674235</td>\n",
              "      <td>...</td>\n",
              "      <td>-0.109625</td>\n",
              "      <td>-0.663727</td>\n",
              "      <td>-0.683631</td>\n",
              "      <td>-0.671847</td>\n",
              "      <td>-0.673489</td>\n",
              "      <td>1.479311</td>\n",
              "      <td>1.470765</td>\n",
              "      <td>1.457319</td>\n",
              "      <td>-0.671921</td>\n",
              "      <td>-0.668836</td>\n",
              "    </tr>\n",
              "    <tr>\n",
              "      <th>4</th>\n",
              "      <td>0.375707</td>\n",
              "      <td>-0.974146</td>\n",
              "      <td>-0.090483</td>\n",
              "      <td>-0.125552</td>\n",
              "      <td>1.399920</td>\n",
              "      <td>2.148719</td>\n",
              "      <td>1.104737</td>\n",
              "      <td>0.603416</td>\n",
              "      <td>1.272284</td>\n",
              "      <td>1.240305</td>\n",
              "      <td>...</td>\n",
              "      <td>-0.109625</td>\n",
              "      <td>-0.663727</td>\n",
              "      <td>1.462777</td>\n",
              "      <td>-0.671847</td>\n",
              "      <td>1.484805</td>\n",
              "      <td>1.479311</td>\n",
              "      <td>-0.679918</td>\n",
              "      <td>-0.686191</td>\n",
              "      <td>1.488271</td>\n",
              "      <td>1.495135</td>\n",
              "    </tr>\n",
              "  </tbody>\n",
              "</table>\n",
              "<p>5 rows × 29 columns</p>\n",
              "</div>"
            ],
            "text/plain": [
              "         0         1         2         3         4         5         6   \\\n",
              "0 -0.534719  0.316171 -0.082203  0.307411  1.785905  1.184260  1.012389   \n",
              "1  1.083816 -0.113934 -0.117028 -0.636632 -0.530007 -0.744659 -0.280483   \n",
              "2 -1.242828 -0.974146 -0.113417 -0.976534  1.785905  2.148719  0.704563   \n",
              "3 -1.040511  0.101119 -0.049776  1.518476 -1.301978 -0.358875 -1.511790   \n",
              "4  0.375707 -0.974146 -0.090483 -0.125552  1.399920  2.148719  1.104737   \n",
              "\n",
              "         7         8         9   ...        19        20        21        22  \\\n",
              "0  1.427122  1.743309  1.564143  ... -0.109625 -0.663727 -0.683631  1.488433   \n",
              "1  1.427122 -0.006214  1.078386  ... -0.109625 -0.663727  1.462777  1.488433   \n",
              "2  0.603416  0.195654  0.916467  ... -0.109625  1.506644  1.462777  1.488433   \n",
              "3 -0.137921 -0.611818 -1.674235  ... -0.109625 -0.663727 -0.683631 -0.671847   \n",
              "4  0.603416  1.272284  1.240305  ... -0.109625 -0.663727  1.462777 -0.671847   \n",
              "\n",
              "         23        24        25        26        27        28  \n",
              "0 -0.673489 -0.675990  1.470765  1.457319  1.488271  1.495135  \n",
              "1  1.484805  1.479311 -0.679918  1.457319  1.488271 -0.668836  \n",
              "2 -0.673489 -0.675990  1.470765 -0.686191 -0.671921 -0.668836  \n",
              "3 -0.673489  1.479311  1.470765  1.457319 -0.671921 -0.668836  \n",
              "4  1.484805  1.479311 -0.679918 -0.686191  1.488271  1.495135  \n",
              "\n",
              "[5 rows x 29 columns]"
            ]
          },
          "execution_count": 106,
          "metadata": {},
          "output_type": "execute_result"
        }
      ],
      "source": [
        "KnnImputer = KNNImputer(n_neighbors=5)\n",
        "x_test = pd.DataFrame(x_test)\n",
        "x_test = pd.DataFrame(KnnImputer.fit_transform(x_test), columns=x_test.columns)\n",
        "\n",
        "x_test.head()"
      ]
    },
    {
      "cell_type": "code",
      "execution_count": 107,
      "id": "d777bcd5",
      "metadata": {},
      "outputs": [
        {
          "data": {
            "application/vnd.microsoft.datawrangler.viewer.v0+json": {
              "columns": [
                {
                  "name": "index",
                  "rawType": "int64",
                  "type": "integer"
                },
                {
                  "name": "Credit_Score",
                  "rawType": "float64",
                  "type": "float"
                }
              ],
              "conversionMethod": "pd.DataFrame",
              "ref": "72e117e6-14dc-4def-a4bc-ca6d05d3f99c",
              "rows": [
                [
                  "0",
                  "1.0"
                ],
                [
                  "1",
                  "2.0"
                ],
                [
                  "2",
                  "1.0"
                ],
                [
                  "3",
                  "0.0"
                ],
                [
                  "4",
                  "2.0"
                ]
              ],
              "shape": {
                "columns": 1,
                "rows": 5
              }
            },
            "text/html": [
              "<div>\n",
              "<style scoped>\n",
              "    .dataframe tbody tr th:only-of-type {\n",
              "        vertical-align: middle;\n",
              "    }\n",
              "\n",
              "    .dataframe tbody tr th {\n",
              "        vertical-align: top;\n",
              "    }\n",
              "\n",
              "    .dataframe thead th {\n",
              "        text-align: right;\n",
              "    }\n",
              "</style>\n",
              "<table border=\"1\" class=\"dataframe\">\n",
              "  <thead>\n",
              "    <tr style=\"text-align: right;\">\n",
              "      <th></th>\n",
              "      <th>Credit_Score</th>\n",
              "    </tr>\n",
              "  </thead>\n",
              "  <tbody>\n",
              "    <tr>\n",
              "      <th>0</th>\n",
              "      <td>1.0</td>\n",
              "    </tr>\n",
              "    <tr>\n",
              "      <th>1</th>\n",
              "      <td>2.0</td>\n",
              "    </tr>\n",
              "    <tr>\n",
              "      <th>2</th>\n",
              "      <td>1.0</td>\n",
              "    </tr>\n",
              "    <tr>\n",
              "      <th>3</th>\n",
              "      <td>0.0</td>\n",
              "    </tr>\n",
              "    <tr>\n",
              "      <th>4</th>\n",
              "      <td>2.0</td>\n",
              "    </tr>\n",
              "  </tbody>\n",
              "</table>\n",
              "</div>"
            ],
            "text/plain": [
              "   Credit_Score\n",
              "0           1.0\n",
              "1           2.0\n",
              "2           1.0\n",
              "3           0.0\n",
              "4           2.0"
            ]
          },
          "execution_count": 107,
          "metadata": {},
          "output_type": "execute_result"
        }
      ],
      "source": [
        "y_test = pd.DataFrame(y_test)\n",
        "y_test = pd.DataFrame(y_scaler.fit_transform(y_test), columns=[\"Credit_Score\"])\n",
        "y_test.head()"
      ]
    },
    {
      "cell_type": "markdown",
      "id": "ff5111bc",
      "metadata": {},
      "source": [
        "----------------\n",
        "\n",
        "# `05` Deep learning model"
      ]
    },
    {
      "cell_type": "markdown",
      "id": "6e23a9e9",
      "metadata": {},
      "source": [
        "- three hidden layers with 128 64 32 nodes respectively"
      ]
    },
    {
      "cell_type": "code",
      "execution_count": 152,
      "id": "b8436cad",
      "metadata": {},
      "outputs": [
        {
          "name": "stderr",
          "output_type": "stream",
          "text": [
            "c:\\Users\\Omar Elgema3y\\AppData\\Local\\Programs\\Python\\Python311\\Lib\\site-packages\\keras\\src\\layers\\core\\dense.py:87: UserWarning: Do not pass an `input_shape`/`input_dim` argument to a layer. When using Sequential models, prefer using an `Input(shape)` object as the first layer in the model instead.\n",
            "  super().__init__(activity_regularizer=activity_regularizer, **kwargs)\n"
          ]
        },
        {
          "data": {
            "text/html": [
              "<pre style=\"white-space:pre;overflow-x:auto;line-height:normal;font-family:Menlo,'DejaVu Sans Mono',consolas,'Courier New',monospace\"><span style=\"font-weight: bold\">Model: \"sequential_9\"</span>\n",
              "</pre>\n"
            ],
            "text/plain": [
              "\u001b[1mModel: \"sequential_9\"\u001b[0m\n"
            ]
          },
          "metadata": {},
          "output_type": "display_data"
        },
        {
          "data": {
            "text/html": [
              "<pre style=\"white-space:pre;overflow-x:auto;line-height:normal;font-family:Menlo,'DejaVu Sans Mono',consolas,'Courier New',monospace\">┏━━━━━━━━━━━━━━━━━━━━━━━━━━━━━━━━━┳━━━━━━━━━━━━━━━━━━━━━━━━┳━━━━━━━━━━━━━━━┓\n",
              "┃<span style=\"font-weight: bold\"> Layer (type)                    </span>┃<span style=\"font-weight: bold\"> Output Shape           </span>┃<span style=\"font-weight: bold\">       Param # </span>┃\n",
              "┡━━━━━━━━━━━━━━━━━━━━━━━━━━━━━━━━━╇━━━━━━━━━━━━━━━━━━━━━━━━╇━━━━━━━━━━━━━━━┩\n",
              "│ dense_34 (<span style=\"color: #0087ff; text-decoration-color: #0087ff\">Dense</span>)                │ (<span style=\"color: #00d7ff; text-decoration-color: #00d7ff\">None</span>, <span style=\"color: #00af00; text-decoration-color: #00af00\">128</span>)            │         <span style=\"color: #00af00; text-decoration-color: #00af00\">3,840</span> │\n",
              "├─────────────────────────────────┼────────────────────────┼───────────────┤\n",
              "│ dense_35 (<span style=\"color: #0087ff; text-decoration-color: #0087ff\">Dense</span>)                │ (<span style=\"color: #00d7ff; text-decoration-color: #00d7ff\">None</span>, <span style=\"color: #00af00; text-decoration-color: #00af00\">64</span>)             │         <span style=\"color: #00af00; text-decoration-color: #00af00\">8,256</span> │\n",
              "├─────────────────────────────────┼────────────────────────┼───────────────┤\n",
              "│ dense_36 (<span style=\"color: #0087ff; text-decoration-color: #0087ff\">Dense</span>)                │ (<span style=\"color: #00d7ff; text-decoration-color: #00d7ff\">None</span>, <span style=\"color: #00af00; text-decoration-color: #00af00\">32</span>)             │         <span style=\"color: #00af00; text-decoration-color: #00af00\">2,080</span> │\n",
              "├─────────────────────────────────┼────────────────────────┼───────────────┤\n",
              "│ dense_37 (<span style=\"color: #0087ff; text-decoration-color: #0087ff\">Dense</span>)                │ (<span style=\"color: #00d7ff; text-decoration-color: #00d7ff\">None</span>, <span style=\"color: #00af00; text-decoration-color: #00af00\">3</span>)              │            <span style=\"color: #00af00; text-decoration-color: #00af00\">99</span> │\n",
              "└─────────────────────────────────┴────────────────────────┴───────────────┘\n",
              "</pre>\n"
            ],
            "text/plain": [
              "┏━━━━━━━━━━━━━━━━━━━━━━━━━━━━━━━━━┳━━━━━━━━━━━━━━━━━━━━━━━━┳━━━━━━━━━━━━━━━┓\n",
              "┃\u001b[1m \u001b[0m\u001b[1mLayer (type)                   \u001b[0m\u001b[1m \u001b[0m┃\u001b[1m \u001b[0m\u001b[1mOutput Shape          \u001b[0m\u001b[1m \u001b[0m┃\u001b[1m \u001b[0m\u001b[1m      Param #\u001b[0m\u001b[1m \u001b[0m┃\n",
              "┡━━━━━━━━━━━━━━━━━━━━━━━━━━━━━━━━━╇━━━━━━━━━━━━━━━━━━━━━━━━╇━━━━━━━━━━━━━━━┩\n",
              "│ dense_34 (\u001b[38;5;33mDense\u001b[0m)                │ (\u001b[38;5;45mNone\u001b[0m, \u001b[38;5;34m128\u001b[0m)            │         \u001b[38;5;34m3,840\u001b[0m │\n",
              "├─────────────────────────────────┼────────────────────────┼───────────────┤\n",
              "│ dense_35 (\u001b[38;5;33mDense\u001b[0m)                │ (\u001b[38;5;45mNone\u001b[0m, \u001b[38;5;34m64\u001b[0m)             │         \u001b[38;5;34m8,256\u001b[0m │\n",
              "├─────────────────────────────────┼────────────────────────┼───────────────┤\n",
              "│ dense_36 (\u001b[38;5;33mDense\u001b[0m)                │ (\u001b[38;5;45mNone\u001b[0m, \u001b[38;5;34m32\u001b[0m)             │         \u001b[38;5;34m2,080\u001b[0m │\n",
              "├─────────────────────────────────┼────────────────────────┼───────────────┤\n",
              "│ dense_37 (\u001b[38;5;33mDense\u001b[0m)                │ (\u001b[38;5;45mNone\u001b[0m, \u001b[38;5;34m3\u001b[0m)              │            \u001b[38;5;34m99\u001b[0m │\n",
              "└─────────────────────────────────┴────────────────────────┴───────────────┘\n"
            ]
          },
          "metadata": {},
          "output_type": "display_data"
        },
        {
          "data": {
            "text/html": [
              "<pre style=\"white-space:pre;overflow-x:auto;line-height:normal;font-family:Menlo,'DejaVu Sans Mono',consolas,'Courier New',monospace\"><span style=\"font-weight: bold\"> Total params: </span><span style=\"color: #00af00; text-decoration-color: #00af00\">14,275</span> (55.76 KB)\n",
              "</pre>\n"
            ],
            "text/plain": [
              "\u001b[1m Total params: \u001b[0m\u001b[38;5;34m14,275\u001b[0m (55.76 KB)\n"
            ]
          },
          "metadata": {},
          "output_type": "display_data"
        },
        {
          "data": {
            "text/html": [
              "<pre style=\"white-space:pre;overflow-x:auto;line-height:normal;font-family:Menlo,'DejaVu Sans Mono',consolas,'Courier New',monospace\"><span style=\"font-weight: bold\"> Trainable params: </span><span style=\"color: #00af00; text-decoration-color: #00af00\">14,275</span> (55.76 KB)\n",
              "</pre>\n"
            ],
            "text/plain": [
              "\u001b[1m Trainable params: \u001b[0m\u001b[38;5;34m14,275\u001b[0m (55.76 KB)\n"
            ]
          },
          "metadata": {},
          "output_type": "display_data"
        },
        {
          "data": {
            "text/html": [
              "<pre style=\"white-space:pre;overflow-x:auto;line-height:normal;font-family:Menlo,'DejaVu Sans Mono',consolas,'Courier New',monospace\"><span style=\"font-weight: bold\"> Non-trainable params: </span><span style=\"color: #00af00; text-decoration-color: #00af00\">0</span> (0.00 B)\n",
              "</pre>\n"
            ],
            "text/plain": [
              "\u001b[1m Non-trainable params: \u001b[0m\u001b[38;5;34m0\u001b[0m (0.00 B)\n"
            ]
          },
          "metadata": {},
          "output_type": "display_data"
        }
      ],
      "source": [
        "model1 = Sequential()\n",
        "model1.add(Dense(128, activation='relu', input_shape=(x_train.shape[1],)))\n",
        "model1.add(Dense(64, activation='relu'))\n",
        "model1.add(Dense(32, activation='relu'))\n",
        "model1.add(Dense(3, activation='softmax'))\n",
        "model1.summary()"
      ]
    },
    {
      "cell_type": "code",
      "execution_count": 154,
      "id": "382b8c47",
      "metadata": {},
      "outputs": [],
      "source": [
        "earlystopping = EarlyStopping(monitor='val_accuracy', patience=5, restore_best_weights=True)"
      ]
    },
    {
      "cell_type": "code",
      "execution_count": 155,
      "id": "6f11de50",
      "metadata": {},
      "outputs": [],
      "source": [
        "model1.compile(optimizer='adam', loss='sparse_categorical_crossentropy',metrics=['accuracy'])"
      ]
    },
    {
      "cell_type": "code",
      "execution_count": 156,
      "id": "58a8444d",
      "metadata": {},
      "outputs": [
        {
          "name": "stdout",
          "output_type": "stream",
          "text": [
            "Epoch 1/100\n",
            "\u001b[1m1000/1000\u001b[0m \u001b[32m━━━━━━━━━━━━━━━━━━━━\u001b[0m\u001b[37m\u001b[0m \u001b[1m7s\u001b[0m 4ms/step - accuracy: 0.6339 - loss: 0.7939 - val_accuracy: 0.6802 - val_loss: 0.7106\n",
            "Epoch 2/100\n",
            "\u001b[1m1000/1000\u001b[0m \u001b[32m━━━━━━━━━━━━━━━━━━━━\u001b[0m\u001b[37m\u001b[0m \u001b[1m5s\u001b[0m 4ms/step - accuracy: 0.6777 - loss: 0.7163 - val_accuracy: 0.6874 - val_loss: 0.6970\n",
            "Epoch 3/100\n",
            "\u001b[1m1000/1000\u001b[0m \u001b[32m━━━━━━━━━━━━━━━━━━━━\u001b[0m\u001b[37m\u001b[0m \u001b[1m4s\u001b[0m 4ms/step - accuracy: 0.6889 - loss: 0.6941 - val_accuracy: 0.6981 - val_loss: 0.6805\n",
            "Epoch 4/100\n",
            "\u001b[1m1000/1000\u001b[0m \u001b[32m━━━━━━━━━━━━━━━━━━━━\u001b[0m\u001b[37m\u001b[0m \u001b[1m4s\u001b[0m 4ms/step - accuracy: 0.6972 - loss: 0.6792 - val_accuracy: 0.6981 - val_loss: 0.6797\n",
            "Epoch 5/100\n",
            "\u001b[1m1000/1000\u001b[0m \u001b[32m━━━━━━━━━━━━━━━━━━━━\u001b[0m\u001b[37m\u001b[0m \u001b[1m4s\u001b[0m 4ms/step - accuracy: 0.7023 - loss: 0.6691 - val_accuracy: 0.7008 - val_loss: 0.6703\n",
            "Epoch 6/100\n",
            "\u001b[1m1000/1000\u001b[0m \u001b[32m━━━━━━━━━━━━━━━━━━━━\u001b[0m\u001b[37m\u001b[0m \u001b[1m4s\u001b[0m 4ms/step - accuracy: 0.7065 - loss: 0.6592 - val_accuracy: 0.7016 - val_loss: 0.6720\n",
            "Epoch 7/100\n",
            "\u001b[1m1000/1000\u001b[0m \u001b[32m━━━━━━━━━━━━━━━━━━━━\u001b[0m\u001b[37m\u001b[0m \u001b[1m5s\u001b[0m 4ms/step - accuracy: 0.7141 - loss: 0.6463 - val_accuracy: 0.7072 - val_loss: 0.6624\n",
            "Epoch 8/100\n",
            "\u001b[1m1000/1000\u001b[0m \u001b[32m━━━━━━━━━━━━━━━━━━━━\u001b[0m\u001b[37m\u001b[0m \u001b[1m5s\u001b[0m 4ms/step - accuracy: 0.7238 - loss: 0.6278 - val_accuracy: 0.7053 - val_loss: 0.6636\n",
            "Epoch 9/100\n",
            "\u001b[1m1000/1000\u001b[0m \u001b[32m━━━━━━━━━━━━━━━━━━━━\u001b[0m\u001b[37m\u001b[0m \u001b[1m4s\u001b[0m 4ms/step - accuracy: 0.7258 - loss: 0.6223 - val_accuracy: 0.7020 - val_loss: 0.6691\n",
            "Epoch 10/100\n",
            "\u001b[1m1000/1000\u001b[0m \u001b[32m━━━━━━━━━━━━━━━━━━━━\u001b[0m\u001b[37m\u001b[0m \u001b[1m4s\u001b[0m 4ms/step - accuracy: 0.7251 - loss: 0.6186 - val_accuracy: 0.7059 - val_loss: 0.6657\n",
            "Epoch 11/100\n",
            "\u001b[1m1000/1000\u001b[0m \u001b[32m━━━━━━━━━━━━━━━━━━━━\u001b[0m\u001b[37m\u001b[0m \u001b[1m4s\u001b[0m 4ms/step - accuracy: 0.7319 - loss: 0.6106 - val_accuracy: 0.7091 - val_loss: 0.6590\n",
            "Epoch 12/100\n",
            "\u001b[1m1000/1000\u001b[0m \u001b[32m━━━━━━━━━━━━━━━━━━━━\u001b[0m\u001b[37m\u001b[0m \u001b[1m4s\u001b[0m 4ms/step - accuracy: 0.7334 - loss: 0.6028 - val_accuracy: 0.7070 - val_loss: 0.6656\n",
            "Epoch 13/100\n",
            "\u001b[1m1000/1000\u001b[0m \u001b[32m━━━━━━━━━━━━━━━━━━━━\u001b[0m\u001b[37m\u001b[0m \u001b[1m5s\u001b[0m 4ms/step - accuracy: 0.7368 - loss: 0.5964 - val_accuracy: 0.7147 - val_loss: 0.6589\n",
            "Epoch 14/100\n",
            "\u001b[1m1000/1000\u001b[0m \u001b[32m━━━━━━━━━━━━━━━━━━━━\u001b[0m\u001b[37m\u001b[0m \u001b[1m4s\u001b[0m 4ms/step - accuracy: 0.7415 - loss: 0.5853 - val_accuracy: 0.7128 - val_loss: 0.6608\n",
            "Epoch 15/100\n",
            "\u001b[1m1000/1000\u001b[0m \u001b[32m━━━━━━━━━━━━━━━━━━━━\u001b[0m\u001b[37m\u001b[0m \u001b[1m4s\u001b[0m 4ms/step - accuracy: 0.7455 - loss: 0.5752 - val_accuracy: 0.7139 - val_loss: 0.6553\n",
            "Epoch 16/100\n",
            "\u001b[1m1000/1000\u001b[0m \u001b[32m━━━━━━━━━━━━━━━━━━━━\u001b[0m\u001b[37m\u001b[0m \u001b[1m5s\u001b[0m 5ms/step - accuracy: 0.7466 - loss: 0.5706 - val_accuracy: 0.7125 - val_loss: 0.6609\n",
            "Epoch 17/100\n",
            "\u001b[1m1000/1000\u001b[0m \u001b[32m━━━━━━━━━━━━━━━━━━━━\u001b[0m\u001b[37m\u001b[0m \u001b[1m4s\u001b[0m 4ms/step - accuracy: 0.7543 - loss: 0.5593 - val_accuracy: 0.7130 - val_loss: 0.6597\n",
            "Epoch 18/100\n",
            "\u001b[1m1000/1000\u001b[0m \u001b[32m━━━━━━━━━━━━━━━━━━━━\u001b[0m\u001b[37m\u001b[0m \u001b[1m4s\u001b[0m 4ms/step - accuracy: 0.7592 - loss: 0.5534 - val_accuracy: 0.7137 - val_loss: 0.6619\n"
          ]
        }
      ],
      "source": [
        "history = model1.fit(x_train, y_train, validation_data=(x_valid, y_valid), epochs=100, batch_size=64, verbose=1, callbacks=[earlystopping]) "
      ]
    },
    {
      "cell_type": "code",
      "execution_count": 157,
      "id": "53391673",
      "metadata": {},
      "outputs": [
        {
          "data": {
            "image/png": "[encoded data removed]",
            "text/plain": [
              "<Figure size 640x480 with 1 Axes>"
            ]
          },
          "metadata": {},
          "output_type": "display_data"
        }
      ],
      "source": [
        "plt.plot(history.history['accuracy'], label='Training')\n",
        "plt.plot(history.history['val_accuracy'], label='Validation')\n",
        "plt.xlabel('Epoch')\n",
        "plt.ylabel('Accuracy')\n",
        "plt.title('Training and Validation Accuracy')\n",
        "plt.legend()\n",
        "plt.show()"
      ]
    },
    {
      "cell_type": "code",
      "execution_count": 158,
      "id": "02166d4b",
      "metadata": {},
      "outputs": [
        {
          "data": {
            "image/png": "[encoded data removed]",
            "text/plain": [
              "<Figure size 640x480 with 1 Axes>"
            ]
          },
          "metadata": {},
          "output_type": "display_data"
        }
      ],
      "source": [
        "plt.plot(history.history['loss'], label='Training')\n",
        "plt.plot(history.history['val_loss'], label='Validation')\n",
        "plt.xlabel('Epoch')\n",
        "plt.ylabel('Loss')\n",
        "plt.title('Training and Validation Loss')\n",
        "plt.legend()\n",
        "plt.show()"
      ]
    }
  ],
  "metadata": {
    "colab": {
      "provenance": []
    },
    "kernelspec": {
      "display_name": "Python 3",
      "language": "python",
      "name": "python3"
    },
    "language_info": {
      "codemirror_mode": {
        "name": "ipython",
        "version": 3
      },
      "file_extension": ".py",
      "mimetype": "text/x-python",
      "name": "python",
      "nbconvert_exporter": "python",
      "pygments_lexer": "ipython3",
      "version": "3.11.0"
    }
  },
  "nbformat": 4,
  "nbformat_minor": 5
}
